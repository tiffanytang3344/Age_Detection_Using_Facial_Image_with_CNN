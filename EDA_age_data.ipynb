{
  "nbformat": 4,
  "nbformat_minor": 0,
  "metadata": {
    "colab": {
      "name": "EDA_age_data.ipynb",
      "provenance": [],
      "collapsed_sections": [],
      "mount_file_id": "1xtZxUwBrFQLpTkPKagwVpbRaJUTqORf8",
      "authorship_tag": "ABX9TyN5HrqUSmCCvLkJbcB1w9Q7",
      "include_colab_link": true
    },
    "kernelspec": {
      "name": "python3",
      "display_name": "Python 3"
    },
    "language_info": {
      "name": "python"
    }
  },
  "cells": [
    {
      "cell_type": "markdown",
      "metadata": {
        "id": "view-in-github",
        "colab_type": "text"
      },
      "source": [
        "<a href=\"https://colab.research.google.com/github/tiffanytang34/Age_Detection_Using_Facial_Image_with_CNN/blob/main/EDA_age_data.ipynb\" target=\"_parent\"><img src=\"https://colab.research.google.com/assets/colab-badge.svg\" alt=\"Open In Colab\"/></a>"
      ]
    },
    {
      "cell_type": "code",
      "execution_count": 4,
      "metadata": {
        "id": "-gYZw7SEm25V"
      },
      "outputs": [],
      "source": [
        "# Imports\n",
        "\n",
        "from zipfile import ZipFile\n",
        "import os\n",
        "import shutil\n",
        "import numpy as np\n",
        "import pandas as pd\n",
        "import matplotlib.pyplot as plt\n",
        "import seaborn as sns\n",
        "import cv2"
      ]
    },
    {
      "cell_type": "markdown",
      "source": [
        "Exploratory Data Analysis"
      ],
      "metadata": {
        "id": "z4J382BEnMaq"
      }
    },
    {
      "cell_type": "markdown",
      "source": [
        "### *facial-age* dataset (9,778 images)"
      ],
      "metadata": {
        "id": "GQq7SWSyrLL4"
      }
    },
    {
      "cell_type": "code",
      "source": [
        "# Unzipping the dataset file facial-age.zip\n",
        "\n",
        "#!unzip facial-age.zip\n",
        "facial_age_zip_path = \"/content/drive/My Drive/Age_Detection/facial-age.zip\"\n",
        "\n",
        "with ZipFile(facial_age_zip_path, 'r') as myzip:\n",
        "    myzip.extractall()\n",
        "    print('Done unzipping facial-age.zip')"
      ],
      "metadata": {
        "colab": {
          "base_uri": "https://localhost:8080/"
        },
        "id": "X5XIqbLEnJJd",
        "outputId": "56c07d03-d0b3-4bda-869f-9fccf5ce49cc"
      },
      "execution_count": 5,
      "outputs": [
        {
          "output_type": "stream",
          "name": "stdout",
          "text": [
            "Done unzipping facial-age.zip\n"
          ]
        }
      ]
    },
    {
      "cell_type": "markdown",
      "source": [
        "***facial-age* dataset** contains **9,778 RGB images of faces** in **PNG** format of size **200x200 pixels** each. The images are separated into folders where the **folder names correspond to the age labels of images inside those folders**."
      ],
      "metadata": {
        "id": "GTUIrIbts-WD"
      }
    },
    {
      "cell_type": "code",
      "source": [
        "# Accessing all folder names to get list of labels.\n",
        "\n",
        "facial_age_path = \"facial-age\"\n",
        "facial_age_folders = os.listdir(facial_age_path)"
      ],
      "metadata": {
        "id": "HIXvuo9BqgRE"
      },
      "execution_count": 6,
      "outputs": []
    },
    {
      "cell_type": "code",
      "source": [
        "# Sorting the folder names (age labels) in ascending order.\n",
        "\n",
        "facial_age_folders = np.sort(facial_age_folders)\n",
        "facial_age_folders"
      ],
      "metadata": {
        "colab": {
          "base_uri": "https://localhost:8080/"
        },
        "id": "1ePlay9ntH3Q",
        "outputId": "31a52248-7d66-463f-8169-bf6a8f522d5c"
      },
      "execution_count": 7,
      "outputs": [
        {
          "output_type": "execute_result",
          "data": {
            "text/plain": [
              "array(['001', '002', '003', '004', '005', '006', '007', '008', '009',\n",
              "       '010', '011', '012', '013', '014', '015', '016', '017', '018',\n",
              "       '019', '020', '021', '022', '023', '024', '025', '026', '027',\n",
              "       '028', '029', '030', '031', '032', '033', '034', '035', '036',\n",
              "       '037', '038', '039', '040', '041', '042', '043', '044', '045',\n",
              "       '046', '047', '048', '049', '050', '051', '052', '053', '054',\n",
              "       '055', '056', '057', '058', '059', '060', '061', '062', '063',\n",
              "       '064', '065', '066', '067', '068', '069', '070', '071', '072',\n",
              "       '073', '074', '075', '076', '077', '078', '079', '080', '081',\n",
              "       '082', '083', '084', '085', '086', '087', '088', '089', '090',\n",
              "       '091', '092', '093', '095', '096', '099', '100', '101', '110'],\n",
              "      dtype='<U3')"
            ]
          },
          "metadata": {},
          "execution_count": 7
        }
      ]
    },
    {
      "cell_type": "markdown",
      "source": [
        " Access the images in the folder and store the info inside a dictionary which has age labels as keys and number of images of certain ages as values. "
      ],
      "metadata": {
        "id": "kachGVdj21mH"
      }
    },
    {
      "cell_type": "code",
      "source": [
        "facial_age_images = {}\n",
        "\n",
        "for age in facial_age_folders:\n",
        "    temp_path = os.path.join(facial_age_path, age)\n",
        "    n_images = len(os.listdir(temp_path))\n",
        "    facial_age_images[int(age)] = n_images"
      ],
      "metadata": {
        "id": "kZlzCLDstmAD"
      },
      "execution_count": 8,
      "outputs": []
    },
    {
      "cell_type": "markdown",
      "source": [
        "### *UTKFace* dataset (23,708 images)"
      ],
      "metadata": {
        "id": "zW7e4kJh3d2W"
      }
    },
    {
      "cell_type": "code",
      "source": [
        "# Unzipping the dataset file UTKFace.zip\n",
        "\n",
        "utkface_zip_path = \"/content/drive/My Drive/Age_Detection/UTKFace.zip\"\n",
        "\n",
        "with ZipFile(utkface_zip_path, 'r') as myzip:\n",
        "    myzip.extractall()\n",
        "    print('Done unzipping UTKFace.zip')"
      ],
      "metadata": {
        "colab": {
          "base_uri": "https://localhost:8080/"
        },
        "id": "pcu0pC743ebH",
        "outputId": "0ddc5687-4d07-4a39-fe0f-ebfc4ebfe775"
      },
      "execution_count": 9,
      "outputs": [
        {
          "output_type": "stream",
          "name": "stdout",
          "text": [
            "Done unzipping UTKFace.zip\n"
          ]
        }
      ]
    },
    {
      "cell_type": "markdown",
      "source": [
        "***UTKFace* dataset** contains **23,708 RGB images of faces** in **JPG** format of size **200x200 pixels** each. The **labels of images are embedded in the file names, formatted like *\\[age]\\_\\[gender]\\_\\[race]\\_\\[date&time].jpg***."
      ],
      "metadata": {
        "id": "OUHTOReK4DyH"
      }
    },
    {
      "cell_type": "code",
      "source": [
        "# Accessing all image file names so as to be able to separate the age labels.\n",
        "\n",
        "utkface_path = '/content/UTKFace'\n",
        "utkface_image_names = os.listdir(utkface_path)"
      ],
      "metadata": {
        "id": "DmEngIz-4ElG"
      },
      "execution_count": 10,
      "outputs": []
    },
    {
      "cell_type": "code",
      "source": [
        "# Defining a function to generate the labels from the image file names according to the format given above.\n",
        "\n",
        "def age_gender_race_split(image_name):\n",
        "    image_labels = image_name.split('_')\n",
        "    age = image_labels[0]\n",
        "    gender = image_labels[1]\n",
        "    race = image_labels[2]\n",
        "\n",
        "    return (age, gender, race)"
      ],
      "metadata": {
        "id": "0tfl4EBD4c4o"
      },
      "execution_count": 11,
      "outputs": []
    },
    {
      "cell_type": "code",
      "source": [
        "# Applying the above function on each image file name using a for loop and storing the labels in relevant arrays.\n",
        "\n",
        "utkface_age_labels = np.array([])\n",
        "utkface_gender_labels = np.array([])\n",
        "utkface_race_labels = np.array([])\n",
        "\n",
        "for image in utkface_image_names:\n",
        "    age, gender, race = age_gender_race_split(image)\n",
        "    utkface_age_labels = np.append(utkface_age_labels, age)\n",
        "    utkface_gender_labels = np.append(utkface_gender_labels, gender)\n",
        "    utkface_race_labels = np.append(utkface_race_labels, race)"
      ],
      "metadata": {
        "id": "_GFHuha94nMJ"
      },
      "execution_count": 12,
      "outputs": []
    },
    {
      "cell_type": "code",
      "source": [
        "# Grouping by the age labels and checking the no. of images per age label.\n",
        "\n",
        "utkface_ages_counts = pd.Series(utkface_age_labels).value_counts()\n",
        "utkface_ages_counts"
      ],
      "metadata": {
        "colab": {
          "base_uri": "https://localhost:8080/"
        },
        "id": "7_SiRERQ4qAo",
        "outputId": "46f8b245-f4e8-4816-90de-a7f6bdcc7771"
      },
      "execution_count": 13,
      "outputs": [
        {
          "output_type": "execute_result",
          "data": {
            "text/plain": [
              "26     2197\n",
              "1      1123\n",
              "28      918\n",
              "35      880\n",
              "24      859\n",
              "       ... \n",
              "115       3\n",
              "91        2\n",
              "101       2\n",
              "103       1\n",
              "111       1\n",
              "Length: 104, dtype: int64"
            ]
          },
          "metadata": {},
          "execution_count": 13
        }
      ]
    },
    {
      "cell_type": "code",
      "source": [
        "# Storing the grouped age labels series generated above in a dictionary with\n",
        "# the age labels as keys and the no. of images per age label as values.\n",
        "\n",
        "utkface_images = {}\n",
        "\n",
        "for age, counts in utkface_ages_counts.items():\n",
        "    utkface_images[int(age)] = counts"
      ],
      "metadata": {
        "id": "nFbIXETv45O7"
      },
      "execution_count": 14,
      "outputs": []
    },
    {
      "cell_type": "code",
      "source": [
        "# Grouping by the gender labels and checking the no. of images per gender label.\n",
        "# 0 = Male, 1 = Female\n",
        "# This is just for extra info and will not be used in the model.\n",
        "\n",
        "pd.Series(utkface_gender_labels).value_counts()"
      ],
      "metadata": {
        "colab": {
          "base_uri": "https://localhost:8080/"
        },
        "id": "isRD3nI95Xkl",
        "outputId": "26d82c79-31c1-4173-fa21-a4bac2721526"
      },
      "execution_count": 15,
      "outputs": [
        {
          "output_type": "execute_result",
          "data": {
            "text/plain": [
              "0    12391\n",
              "1    11317\n",
              "dtype: int64"
            ]
          },
          "metadata": {},
          "execution_count": 15
        }
      ]
    },
    {
      "cell_type": "code",
      "source": [
        "# Grouping by the race labels and checking the no. of images per race label.\n",
        "# 0 = White, 1 = Black, 2 = Asian, 3 = Indian, 4 = Others (like Hispanic, Latino, Middle Eastern)\n",
        "# This is just for extra info and will not be used in the model.\n",
        "\n",
        "pd.Series(utkface_race_labels).value_counts()\n",
        "\n",
        "# 3 images don't have race labels in their file name, as seen below."
      ],
      "metadata": {
        "colab": {
          "base_uri": "https://localhost:8080/"
        },
        "id": "pQ0eHb455oG_",
        "outputId": "bd899feb-e10a-442b-c792-0a2b01b6de6d"
      },
      "execution_count": 16,
      "outputs": [
        {
          "output_type": "execute_result",
          "data": {
            "text/plain": [
              "0                                 10078\n",
              "1                                  4526\n",
              "3                                  3975\n",
              "2                                  3434\n",
              "4                                  1692\n",
              "20170116174525125.jpg.chip.jpg        1\n",
              "20170109150557335.jpg.chip.jpg        1\n",
              "20170109142408075.jpg.chip.jpg        1\n",
              "dtype: int64"
            ]
          },
          "metadata": {},
          "execution_count": 16
        }
      ]
    },
    {
      "cell_type": "markdown",
      "source": [
        "### Classes for Age Classification"
      ],
      "metadata": {
        "id": "LO_qWreQ_972"
      }
    },
    {
      "cell_type": "markdown",
      "source": [
        "In this part, I will **combine the different age labels into classes of age-ranges** so as to prepare the datasets for age classification modelling later. \n",
        "The classes of ages need to be established according to the number of images available per age label. In this way, the classes of ages will be balanced. This will ensure that the classification model learns to classify each age-range equally."
      ],
      "metadata": {
        "id": "M76Fl3on__gy"
      }
    },
    {
      "cell_type": "code",
      "source": [
        "# Checking no. of unique age values in facial-age dataset.\n",
        "\n",
        "facial_age_ages = list(facial_age_images.keys())\n",
        "len(facial_age_ages)"
      ],
      "metadata": {
        "colab": {
          "base_uri": "https://localhost:8080/"
        },
        "id": "qk6KhBHyC18S",
        "outputId": "30fb8660-acae-422e-cf7d-bdefe7cae40f"
      },
      "execution_count": 18,
      "outputs": [
        {
          "output_type": "execute_result",
          "data": {
            "text/plain": [
              "99"
            ]
          },
          "metadata": {},
          "execution_count": 18
        }
      ]
    },
    {
      "cell_type": "code",
      "source": [
        "# Checking no. of unique age values in UTKFace dataset.\n",
        "\n",
        "utkface_ages = list(utkface_images.keys())\n",
        "len(utkface_ages)"
      ],
      "metadata": {
        "colab": {
          "base_uri": "https://localhost:8080/"
        },
        "id": "MPM2ZhBjC4Ra",
        "outputId": "b777110f-e0d6-43b6-d4c7-06d5945c6738"
      },
      "execution_count": 19,
      "outputs": [
        {
          "output_type": "execute_result",
          "data": {
            "text/plain": [
              "104"
            ]
          },
          "metadata": {},
          "execution_count": 19
        }
      ]
    },
    {
      "cell_type": "code",
      "source": [
        "# Combining the lists of age values from the two datasets and\n",
        "# converting the combined list to a set to keep only the unique age values.\n",
        "\n",
        "facial_age_ages.extend(utkface_ages)\n",
        "unique_ages = set(facial_age_ages)"
      ],
      "metadata": {
        "id": "3fojIBlq5p9G"
      },
      "execution_count": 20,
      "outputs": []
    },
    {
      "cell_type": "code",
      "source": [
        "# Checking no. of unique age values in both datasets combined.\n",
        "\n",
        "len(unique_ages)"
      ],
      "metadata": {
        "colab": {
          "base_uri": "https://localhost:8080/"
        },
        "id": "-A7oK--mB2yR",
        "outputId": "31d39f06-562b-401c-80e4-4d9ded1e825f"
      },
      "execution_count": 21,
      "outputs": [
        {
          "output_type": "execute_result",
          "data": {
            "text/plain": [
              "104"
            ]
          },
          "metadata": {},
          "execution_count": 21
        }
      ]
    }
  ]
}