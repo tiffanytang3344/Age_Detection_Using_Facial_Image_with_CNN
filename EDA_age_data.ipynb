{
  "nbformat": 4,
  "nbformat_minor": 0,
  "metadata": {
    "colab": {
      "name": "EDA_age_data.ipynb",
      "provenance": [],
      "collapsed_sections": [],
      "mount_file_id": "1xtZxUwBrFQLpTkPKagwVpbRaJUTqORf8",
      "authorship_tag": "ABX9TyMRVXBKWdQIAmJTmPGWwZuB",
      "include_colab_link": true
    },
    "kernelspec": {
      "name": "python3",
      "display_name": "Python 3"
    },
    "language_info": {
      "name": "python"
    }
  },
  "cells": [
    {
      "cell_type": "markdown",
      "metadata": {
        "id": "view-in-github",
        "colab_type": "text"
      },
      "source": [
        "<a href=\"https://colab.research.google.com/github/tiffanytang34/Age_Detection_Using_Facial_Image_with_CNN/blob/main/EDA_age_data.ipynb\" target=\"_parent\"><img src=\"https://colab.research.google.com/assets/colab-badge.svg\" alt=\"Open In Colab\"/></a>"
      ]
    },
    {
      "cell_type": "code",
      "execution_count": 1,
      "metadata": {
        "id": "-gYZw7SEm25V"
      },
      "outputs": [],
      "source": [
        "# Imports\n",
        "\n",
        "from zipfile import ZipFile\n",
        "import os\n",
        "import shutil\n",
        "import numpy as np\n",
        "import pandas as pd\n",
        "import matplotlib.pyplot as plt\n",
        "import seaborn as sns\n",
        "import cv2"
      ]
    },
    {
      "cell_type": "markdown",
      "source": [
        "Exploratory Data Analysis"
      ],
      "metadata": {
        "id": "z4J382BEnMaq"
      }
    },
    {
      "cell_type": "markdown",
      "source": [
        "### *facial-age* dataset (9,778 images)"
      ],
      "metadata": {
        "id": "GQq7SWSyrLL4"
      }
    },
    {
      "cell_type": "code",
      "source": [
        "# Unzipping the dataset file facial-age.zip\n",
        "\n",
        "#!unzip facial-age.zip\n",
        "facial_age_zip_path = \"/content/drive/My Drive/Age_Detection/facial-age.zip\"\n",
        "\n",
        "with ZipFile(facial_age_zip_path, 'r') as myzip:\n",
        "    myzip.extractall()\n",
        "    print('Done unzipping facial-age.zip')"
      ],
      "metadata": {
        "colab": {
          "base_uri": "https://localhost:8080/"
        },
        "id": "X5XIqbLEnJJd",
        "outputId": "d3461901-d914-4375-b5c7-7d2781887465"
      },
      "execution_count": 2,
      "outputs": [
        {
          "output_type": "stream",
          "name": "stdout",
          "text": [
            "Done unzipping facial-age.zip\n"
          ]
        }
      ]
    },
    {
      "cell_type": "markdown",
      "source": [
        "***facial-age* dataset** contains **9,778 RGB images of faces** in **PNG** format of size **200x200 pixels** each. The images are separated into folders where the **folder names correspond to the age labels of images inside those folders**."
      ],
      "metadata": {
        "id": "GTUIrIbts-WD"
      }
    },
    {
      "cell_type": "code",
      "source": [
        "# Accessing all folder names to get list of labels.\n",
        "\n",
        "facial_age_path = \"facial-age\"\n",
        "facial_age_folders = os.listdir(facial_age_path)"
      ],
      "metadata": {
        "id": "HIXvuo9BqgRE"
      },
      "execution_count": 3,
      "outputs": []
    },
    {
      "cell_type": "code",
      "source": [
        "# Sorting the folder names (age labels) in ascending order.\n",
        "\n",
        "facial_age_folders = np.sort(facial_age_folders)\n",
        "facial_age_folders"
      ],
      "metadata": {
        "colab": {
          "base_uri": "https://localhost:8080/"
        },
        "id": "1ePlay9ntH3Q",
        "outputId": "c7834bc5-fcde-4d8d-ac30-4bb8f122ada4"
      },
      "execution_count": 4,
      "outputs": [
        {
          "output_type": "execute_result",
          "data": {
            "text/plain": [
              "array(['001', '002', '003', '004', '005', '006', '007', '008', '009',\n",
              "       '010', '011', '012', '013', '014', '015', '016', '017', '018',\n",
              "       '019', '020', '021', '022', '023', '024', '025', '026', '027',\n",
              "       '028', '029', '030', '031', '032', '033', '034', '035', '036',\n",
              "       '037', '038', '039', '040', '041', '042', '043', '044', '045',\n",
              "       '046', '047', '048', '049', '050', '051', '052', '053', '054',\n",
              "       '055', '056', '057', '058', '059', '060', '061', '062', '063',\n",
              "       '064', '065', '066', '067', '068', '069', '070', '071', '072',\n",
              "       '073', '074', '075', '076', '077', '078', '079', '080', '081',\n",
              "       '082', '083', '084', '085', '086', '087', '088', '089', '090',\n",
              "       '091', '092', '093', '095', '096', '099', '100', '101', '110'],\n",
              "      dtype='<U3')"
            ]
          },
          "metadata": {},
          "execution_count": 4
        }
      ]
    },
    {
      "cell_type": "markdown",
      "source": [
        " Access the images in the folder and store the info inside a dictionary which has age labels as keys and number of images of certain ages as values. "
      ],
      "metadata": {
        "id": "kachGVdj21mH"
      }
    },
    {
      "cell_type": "code",
      "source": [
        "facial_age_images = {}\n",
        "\n",
        "for age in facial_age_folders:\n",
        "    temp_path = os.path.join(facial_age_path, age)\n",
        "    n_images = len(os.listdir(temp_path))\n",
        "    facial_age_images[int(age)] = n_images"
      ],
      "metadata": {
        "id": "kZlzCLDstmAD"
      },
      "execution_count": 5,
      "outputs": []
    },
    {
      "cell_type": "markdown",
      "source": [
        "### *UTKFace* dataset (23,708 images)"
      ],
      "metadata": {
        "id": "zW7e4kJh3d2W"
      }
    },
    {
      "cell_type": "code",
      "source": [
        "# Unzipping the dataset file UTKFace.zip\n",
        "\n",
        "utkface_zip_path = \"/content/drive/My Drive/Age_Detection/UTKFace.zip\"\n",
        "\n",
        "with ZipFile(utkface_zip_path, 'r') as myzip:\n",
        "    myzip.extractall()\n",
        "    print('Done unzipping UTKFace.zip')"
      ],
      "metadata": {
        "colab": {
          "base_uri": "https://localhost:8080/"
        },
        "id": "pcu0pC743ebH",
        "outputId": "ac423617-8996-4290-d0b8-bc35a69792ea"
      },
      "execution_count": 6,
      "outputs": [
        {
          "output_type": "stream",
          "name": "stdout",
          "text": [
            "Done unzipping UTKFace.zip\n"
          ]
        }
      ]
    },
    {
      "cell_type": "markdown",
      "source": [
        "***UTKFace* dataset** contains **23,708 RGB images of faces** in **JPG** format of size **200x200 pixels** each. The **labels of images are embedded in the file names, formatted like *\\[age]\\_\\[gender]\\_\\[race]\\_\\[date&time].jpg***."
      ],
      "metadata": {
        "id": "OUHTOReK4DyH"
      }
    },
    {
      "cell_type": "code",
      "source": [
        "# Accessing all image file names so as to be able to separate the age labels.\n",
        "\n",
        "utkface_path = '/content/UTKFace'\n",
        "utkface_image_names = os.listdir(utkface_path)"
      ],
      "metadata": {
        "id": "DmEngIz-4ElG"
      },
      "execution_count": 7,
      "outputs": []
    },
    {
      "cell_type": "code",
      "source": [
        "# Defining a function to generate the labels from the image file names according to the format given above.\n",
        "\n",
        "def age_gender_race_split(image_name):\n",
        "    image_labels = image_name.split('_')\n",
        "    age = image_labels[0]\n",
        "    gender = image_labels[1]\n",
        "    race = image_labels[2]\n",
        "\n",
        "    return (age, gender, race)"
      ],
      "metadata": {
        "id": "0tfl4EBD4c4o"
      },
      "execution_count": 8,
      "outputs": []
    },
    {
      "cell_type": "code",
      "source": [
        "# Applying the above function on each image file name using a for loop and storing the labels in relevant arrays.\n",
        "\n",
        "utkface_age_labels = np.array([])\n",
        "utkface_gender_labels = np.array([])\n",
        "utkface_race_labels = np.array([])\n",
        "\n",
        "for image in utkface_image_names:\n",
        "    age, gender, race = age_gender_race_split(image)\n",
        "    utkface_age_labels = np.append(utkface_age_labels, age)\n",
        "    utkface_gender_labels = np.append(utkface_gender_labels, gender)\n",
        "    utkface_race_labels = np.append(utkface_race_labels, race)"
      ],
      "metadata": {
        "id": "_GFHuha94nMJ"
      },
      "execution_count": 9,
      "outputs": []
    },
    {
      "cell_type": "code",
      "source": [
        "# Grouping by the age labels and checking the no. of images per age label.\n",
        "\n",
        "utkface_ages_counts = pd.Series(utkface_age_labels).value_counts()\n",
        "utkface_ages_counts"
      ],
      "metadata": {
        "colab": {
          "base_uri": "https://localhost:8080/"
        },
        "id": "7_SiRERQ4qAo",
        "outputId": "a593f731-b91a-4a2c-e4a7-30d588de998a"
      },
      "execution_count": 10,
      "outputs": [
        {
          "output_type": "execute_result",
          "data": {
            "text/plain": [
              "26     2197\n",
              "1      1123\n",
              "28      918\n",
              "35      880\n",
              "24      859\n",
              "       ... \n",
              "115       3\n",
              "101       2\n",
              "91        2\n",
              "103       1\n",
              "111       1\n",
              "Length: 104, dtype: int64"
            ]
          },
          "metadata": {},
          "execution_count": 10
        }
      ]
    },
    {
      "cell_type": "code",
      "source": [
        "# Storing the grouped age labels series generated above in a dictionary with\n",
        "# the age labels as keys and the no. of images per age label as values.\n",
        "\n",
        "utkface_images = {}\n",
        "\n",
        "for age, counts in utkface_ages_counts.items():\n",
        "    utkface_images[int(age)] = counts"
      ],
      "metadata": {
        "id": "nFbIXETv45O7"
      },
      "execution_count": 11,
      "outputs": []
    },
    {
      "cell_type": "code",
      "source": [
        "# Grouping by the gender labels and checking the no. of images per gender label.\n",
        "# 0 = Male, 1 = Female\n",
        "# This is just for extra info and will not be used in the model.\n",
        "\n",
        "pd.Series(utkface_gender_labels).value_counts()"
      ],
      "metadata": {
        "colab": {
          "base_uri": "https://localhost:8080/"
        },
        "id": "isRD3nI95Xkl",
        "outputId": "aa5113ec-6725-4544-9030-2e9c3dff8b99"
      },
      "execution_count": 12,
      "outputs": [
        {
          "output_type": "execute_result",
          "data": {
            "text/plain": [
              "0    12391\n",
              "1    11317\n",
              "dtype: int64"
            ]
          },
          "metadata": {},
          "execution_count": 12
        }
      ]
    },
    {
      "cell_type": "code",
      "source": [
        "# Grouping by the race labels and checking the no. of images per race label.\n",
        "# 0 = White, 1 = Black, 2 = Asian, 3 = Indian, 4 = Others (like Hispanic, Latino, Middle Eastern)\n",
        "# This is just for extra info and will not be used in the model.\n",
        "\n",
        "pd.Series(utkface_race_labels).value_counts()\n",
        "\n",
        "# 3 images don't have race labels in their file name, as seen below."
      ],
      "metadata": {
        "colab": {
          "base_uri": "https://localhost:8080/"
        },
        "id": "pQ0eHb455oG_",
        "outputId": "38c341e6-de1b-4c7b-f162-f0ca5b724597"
      },
      "execution_count": 13,
      "outputs": [
        {
          "output_type": "execute_result",
          "data": {
            "text/plain": [
              "0                                 10078\n",
              "1                                  4526\n",
              "3                                  3975\n",
              "2                                  3434\n",
              "4                                  1692\n",
              "20170109150557335.jpg.chip.jpg        1\n",
              "20170116174525125.jpg.chip.jpg        1\n",
              "20170109142408075.jpg.chip.jpg        1\n",
              "dtype: int64"
            ]
          },
          "metadata": {},
          "execution_count": 13
        }
      ]
    },
    {
      "cell_type": "markdown",
      "source": [
        "### Classes for Age Classification"
      ],
      "metadata": {
        "id": "LO_qWreQ_972"
      }
    },
    {
      "cell_type": "markdown",
      "source": [
        "In this part, I will **combine the different age labels into classes of age-ranges** so as to prepare the datasets for age classification modelling later. \n",
        "The classes of ages need to be established according to the number of images available per age label. In this way, the classes of ages will be balanced. This will ensure that the classification model learns to classify each age-range equally."
      ],
      "metadata": {
        "id": "M76Fl3on__gy"
      }
    },
    {
      "cell_type": "code",
      "source": [
        "# Checking no. of unique age values in facial-age dataset.\n",
        "\n",
        "facial_age_ages = list(facial_age_images.keys())\n",
        "len(facial_age_ages)"
      ],
      "metadata": {
        "id": "qk6KhBHyC18S",
        "outputId": "c9e0ef79-994e-47be-9339-d3b27404ea6b",
        "colab": {
          "base_uri": "https://localhost:8080/"
        }
      },
      "execution_count": 14,
      "outputs": [
        {
          "output_type": "execute_result",
          "data": {
            "text/plain": [
              "99"
            ]
          },
          "metadata": {},
          "execution_count": 14
        }
      ]
    },
    {
      "cell_type": "code",
      "source": [
        "# Checking no. of unique age values in UTKFace dataset.\n",
        "\n",
        "utkface_ages = list(utkface_images.keys())\n",
        "len(utkface_ages)"
      ],
      "metadata": {
        "id": "MPM2ZhBjC4Ra",
        "outputId": "5a3bb667-883b-4afc-c7be-bfb7be96f4e3",
        "colab": {
          "base_uri": "https://localhost:8080/"
        }
      },
      "execution_count": 15,
      "outputs": [
        {
          "output_type": "execute_result",
          "data": {
            "text/plain": [
              "104"
            ]
          },
          "metadata": {},
          "execution_count": 15
        }
      ]
    },
    {
      "cell_type": "code",
      "source": [
        "# Combining the lists of age values from the two datasets and\n",
        "# converting the combined list to a set to keep only the unique age values.\n",
        "\n",
        "facial_age_ages.extend(utkface_ages)\n",
        "unique_ages = set(facial_age_ages)"
      ],
      "metadata": {
        "id": "3fojIBlq5p9G"
      },
      "execution_count": 16,
      "outputs": []
    },
    {
      "cell_type": "code",
      "source": [
        "# Checking no. of unique age values in both datasets combined.\n",
        "\n",
        "len(unique_ages)"
      ],
      "metadata": {
        "colab": {
          "base_uri": "https://localhost:8080/"
        },
        "id": "-A7oK--mB2yR",
        "outputId": "669b4600-a92d-4af0-b1dd-790d359885de"
      },
      "execution_count": 17,
      "outputs": [
        {
          "output_type": "execute_result",
          "data": {
            "text/plain": [
              "104"
            ]
          },
          "metadata": {},
          "execution_count": 17
        }
      ]
    },
    {
      "cell_type": "code",
      "source": [
        "# Creating a dictionary of age labels as keys and no. of images per age label in both datasets combined as values,\n",
        "# using the two dictionaries defined above.\n",
        "\n",
        "combined_images = {}\n",
        "\n",
        "for age in unique_ages:\n",
        "    fc_image = 0\n",
        "    utk_image = 0\n",
        "\n",
        "    # Using try-except loop to avoid KeyError in case a particular age value does not exist in the dictionary.\n",
        "    try:\n",
        "        fc_image = facial_age_images[age]\n",
        "    except:\n",
        "        pass\n",
        "    \n",
        "    try:\n",
        "        utk_image = utkface_images[age]\n",
        "    except:\n",
        "        pass\n",
        "    \n",
        "    # Summing up the no. of images for the age label.\n",
        "    combined_images[age] = fc_image + utk_image"
      ],
      "metadata": {
        "id": "Xjr9-_akSI7t"
      },
      "execution_count": 18,
      "outputs": []
    },
    {
      "cell_type": "code",
      "source": [
        "# Checking total no. of images in both datasets combined to ensure correctness of above code.\n",
        "\n",
        "sum(combined_images.values())"
      ],
      "metadata": {
        "colab": {
          "base_uri": "https://localhost:8080/"
        },
        "id": "Wnsf-WsmSMqG",
        "outputId": "3cc64823-8240-4e3a-f92f-d84319e0d36b"
      },
      "execution_count": 19,
      "outputs": [
        {
          "output_type": "execute_result",
          "data": {
            "text/plain": [
              "33486"
            ]
          },
          "metadata": {},
          "execution_count": 19
        }
      ]
    },
    {
      "cell_type": "code",
      "source": [
        "# Checking total no. of images by summing up no. of images in facial-age and UTKFace datasets.\n",
        "\n",
        "sum(facial_age_images.values()) + sum(utkface_images.values())"
      ],
      "metadata": {
        "colab": {
          "base_uri": "https://localhost:8080/"
        },
        "id": "dQzRnf6TSQjm",
        "outputId": "f128a0a6-1dc5-4990-b5fc-a95277273e0a"
      },
      "execution_count": 20,
      "outputs": [
        {
          "output_type": "execute_result",
          "data": {
            "text/plain": [
              "33486"
            ]
          },
          "metadata": {},
          "execution_count": 20
        }
      ]
    },
    {
      "cell_type": "code",
      "source": [
        "# Creating a dataframe to store the no. of images per age label in facial-age dataset, UTKFace dataset and the combined dataset.\n",
        "\n",
        "images_df = pd.DataFrame(combined_images.values(), index=combined_images.keys(), columns=['combined_images'])\n",
        "images_df['facial_age_images'] = pd.Series(facial_age_images)\n",
        "images_df['utkface_images'] = pd.Series(utkface_images)\n",
        "\n",
        "images_df"
      ],
      "metadata": {
        "colab": {
          "base_uri": "https://localhost:8080/",
          "height": 423
        },
        "id": "rSD4tt4fSS22",
        "outputId": "2da4b88c-cbfd-4af5-92b3-5b26700e1893"
      },
      "execution_count": 21,
      "outputs": [
        {
          "output_type": "execute_result",
          "data": {
            "text/plain": [
              "     combined_images  facial_age_images  utkface_images\n",
              "1               2235             1112.0            1123\n",
              "2                957              475.0             482\n",
              "3                573              284.0             289\n",
              "4                533              260.0             273\n",
              "5                376              180.0             196\n",
              "..               ...                ...             ...\n",
              "105                5                NaN               5\n",
              "110                7                2.0               5\n",
              "111                1                NaN               1\n",
              "115                3                NaN               3\n",
              "116                4                NaN               4\n",
              "\n",
              "[104 rows x 3 columns]"
            ],
            "text/html": [
              "\n",
              "  <div id=\"df-cdda554a-44df-43e0-b885-412372963e47\">\n",
              "    <div class=\"colab-df-container\">\n",
              "      <div>\n",
              "<style scoped>\n",
              "    .dataframe tbody tr th:only-of-type {\n",
              "        vertical-align: middle;\n",
              "    }\n",
              "\n",
              "    .dataframe tbody tr th {\n",
              "        vertical-align: top;\n",
              "    }\n",
              "\n",
              "    .dataframe thead th {\n",
              "        text-align: right;\n",
              "    }\n",
              "</style>\n",
              "<table border=\"1\" class=\"dataframe\">\n",
              "  <thead>\n",
              "    <tr style=\"text-align: right;\">\n",
              "      <th></th>\n",
              "      <th>combined_images</th>\n",
              "      <th>facial_age_images</th>\n",
              "      <th>utkface_images</th>\n",
              "    </tr>\n",
              "  </thead>\n",
              "  <tbody>\n",
              "    <tr>\n",
              "      <th>1</th>\n",
              "      <td>2235</td>\n",
              "      <td>1112.0</td>\n",
              "      <td>1123</td>\n",
              "    </tr>\n",
              "    <tr>\n",
              "      <th>2</th>\n",
              "      <td>957</td>\n",
              "      <td>475.0</td>\n",
              "      <td>482</td>\n",
              "    </tr>\n",
              "    <tr>\n",
              "      <th>3</th>\n",
              "      <td>573</td>\n",
              "      <td>284.0</td>\n",
              "      <td>289</td>\n",
              "    </tr>\n",
              "    <tr>\n",
              "      <th>4</th>\n",
              "      <td>533</td>\n",
              "      <td>260.0</td>\n",
              "      <td>273</td>\n",
              "    </tr>\n",
              "    <tr>\n",
              "      <th>5</th>\n",
              "      <td>376</td>\n",
              "      <td>180.0</td>\n",
              "      <td>196</td>\n",
              "    </tr>\n",
              "    <tr>\n",
              "      <th>...</th>\n",
              "      <td>...</td>\n",
              "      <td>...</td>\n",
              "      <td>...</td>\n",
              "    </tr>\n",
              "    <tr>\n",
              "      <th>105</th>\n",
              "      <td>5</td>\n",
              "      <td>NaN</td>\n",
              "      <td>5</td>\n",
              "    </tr>\n",
              "    <tr>\n",
              "      <th>110</th>\n",
              "      <td>7</td>\n",
              "      <td>2.0</td>\n",
              "      <td>5</td>\n",
              "    </tr>\n",
              "    <tr>\n",
              "      <th>111</th>\n",
              "      <td>1</td>\n",
              "      <td>NaN</td>\n",
              "      <td>1</td>\n",
              "    </tr>\n",
              "    <tr>\n",
              "      <th>115</th>\n",
              "      <td>3</td>\n",
              "      <td>NaN</td>\n",
              "      <td>3</td>\n",
              "    </tr>\n",
              "    <tr>\n",
              "      <th>116</th>\n",
              "      <td>4</td>\n",
              "      <td>NaN</td>\n",
              "      <td>4</td>\n",
              "    </tr>\n",
              "  </tbody>\n",
              "</table>\n",
              "<p>104 rows × 3 columns</p>\n",
              "</div>\n",
              "      <button class=\"colab-df-convert\" onclick=\"convertToInteractive('df-cdda554a-44df-43e0-b885-412372963e47')\"\n",
              "              title=\"Convert this dataframe to an interactive table.\"\n",
              "              style=\"display:none;\">\n",
              "        \n",
              "  <svg xmlns=\"http://www.w3.org/2000/svg\" height=\"24px\"viewBox=\"0 0 24 24\"\n",
              "       width=\"24px\">\n",
              "    <path d=\"M0 0h24v24H0V0z\" fill=\"none\"/>\n",
              "    <path d=\"M18.56 5.44l.94 2.06.94-2.06 2.06-.94-2.06-.94-.94-2.06-.94 2.06-2.06.94zm-11 1L8.5 8.5l.94-2.06 2.06-.94-2.06-.94L8.5 2.5l-.94 2.06-2.06.94zm10 10l.94 2.06.94-2.06 2.06-.94-2.06-.94-.94-2.06-.94 2.06-2.06.94z\"/><path d=\"M17.41 7.96l-1.37-1.37c-.4-.4-.92-.59-1.43-.59-.52 0-1.04.2-1.43.59L10.3 9.45l-7.72 7.72c-.78.78-.78 2.05 0 2.83L4 21.41c.39.39.9.59 1.41.59.51 0 1.02-.2 1.41-.59l7.78-7.78 2.81-2.81c.8-.78.8-2.07 0-2.86zM5.41 20L4 18.59l7.72-7.72 1.47 1.35L5.41 20z\"/>\n",
              "  </svg>\n",
              "      </button>\n",
              "      \n",
              "  <style>\n",
              "    .colab-df-container {\n",
              "      display:flex;\n",
              "      flex-wrap:wrap;\n",
              "      gap: 12px;\n",
              "    }\n",
              "\n",
              "    .colab-df-convert {\n",
              "      background-color: #E8F0FE;\n",
              "      border: none;\n",
              "      border-radius: 50%;\n",
              "      cursor: pointer;\n",
              "      display: none;\n",
              "      fill: #1967D2;\n",
              "      height: 32px;\n",
              "      padding: 0 0 0 0;\n",
              "      width: 32px;\n",
              "    }\n",
              "\n",
              "    .colab-df-convert:hover {\n",
              "      background-color: #E2EBFA;\n",
              "      box-shadow: 0px 1px 2px rgba(60, 64, 67, 0.3), 0px 1px 3px 1px rgba(60, 64, 67, 0.15);\n",
              "      fill: #174EA6;\n",
              "    }\n",
              "\n",
              "    [theme=dark] .colab-df-convert {\n",
              "      background-color: #3B4455;\n",
              "      fill: #D2E3FC;\n",
              "    }\n",
              "\n",
              "    [theme=dark] .colab-df-convert:hover {\n",
              "      background-color: #434B5C;\n",
              "      box-shadow: 0px 1px 3px 1px rgba(0, 0, 0, 0.15);\n",
              "      filter: drop-shadow(0px 1px 2px rgba(0, 0, 0, 0.3));\n",
              "      fill: #FFFFFF;\n",
              "    }\n",
              "  </style>\n",
              "\n",
              "      <script>\n",
              "        const buttonEl =\n",
              "          document.querySelector('#df-cdda554a-44df-43e0-b885-412372963e47 button.colab-df-convert');\n",
              "        buttonEl.style.display =\n",
              "          google.colab.kernel.accessAllowed ? 'block' : 'none';\n",
              "\n",
              "        async function convertToInteractive(key) {\n",
              "          const element = document.querySelector('#df-cdda554a-44df-43e0-b885-412372963e47');\n",
              "          const dataTable =\n",
              "            await google.colab.kernel.invokeFunction('convertToInteractive',\n",
              "                                                     [key], {});\n",
              "          if (!dataTable) return;\n",
              "\n",
              "          const docLinkHtml = 'Like what you see? Visit the ' +\n",
              "            '<a target=\"_blank\" href=https://colab.research.google.com/notebooks/data_table.ipynb>data table notebook</a>'\n",
              "            + ' to learn more about interactive tables.';\n",
              "          element.innerHTML = '';\n",
              "          dataTable['output_type'] = 'display_data';\n",
              "          await google.colab.output.renderOutput(dataTable, element);\n",
              "          const docLink = document.createElement('div');\n",
              "          docLink.innerHTML = docLinkHtml;\n",
              "          element.appendChild(docLink);\n",
              "        }\n",
              "      </script>\n",
              "    </div>\n",
              "  </div>\n",
              "  "
            ]
          },
          "metadata": {},
          "execution_count": 21
        }
      ]
    },
    {
      "cell_type": "code",
      "source": [
        "# Imputing the null values in above dataframe with 0s.\n",
        "\n",
        "images_df.fillna(0, inplace=True)\n",
        "images_df = images_df.astype(int)\n",
        "\n",
        "images_df"
      ],
      "metadata": {
        "colab": {
          "base_uri": "https://localhost:8080/",
          "height": 423
        },
        "id": "72Q0BnQxSVDV",
        "outputId": "0f8b8ee9-8608-46bc-e448-2a1cbac496ba"
      },
      "execution_count": 22,
      "outputs": [
        {
          "output_type": "execute_result",
          "data": {
            "text/plain": [
              "     combined_images  facial_age_images  utkface_images\n",
              "1               2235               1112            1123\n",
              "2                957                475             482\n",
              "3                573                284             289\n",
              "4                533                260             273\n",
              "5                376                180             196\n",
              "..               ...                ...             ...\n",
              "105                5                  0               5\n",
              "110                7                  2               5\n",
              "111                1                  0               1\n",
              "115                3                  0               3\n",
              "116                4                  0               4\n",
              "\n",
              "[104 rows x 3 columns]"
            ],
            "text/html": [
              "\n",
              "  <div id=\"df-c19929a8-7b70-4b41-89f2-5fc9a4b5d2bf\">\n",
              "    <div class=\"colab-df-container\">\n",
              "      <div>\n",
              "<style scoped>\n",
              "    .dataframe tbody tr th:only-of-type {\n",
              "        vertical-align: middle;\n",
              "    }\n",
              "\n",
              "    .dataframe tbody tr th {\n",
              "        vertical-align: top;\n",
              "    }\n",
              "\n",
              "    .dataframe thead th {\n",
              "        text-align: right;\n",
              "    }\n",
              "</style>\n",
              "<table border=\"1\" class=\"dataframe\">\n",
              "  <thead>\n",
              "    <tr style=\"text-align: right;\">\n",
              "      <th></th>\n",
              "      <th>combined_images</th>\n",
              "      <th>facial_age_images</th>\n",
              "      <th>utkface_images</th>\n",
              "    </tr>\n",
              "  </thead>\n",
              "  <tbody>\n",
              "    <tr>\n",
              "      <th>1</th>\n",
              "      <td>2235</td>\n",
              "      <td>1112</td>\n",
              "      <td>1123</td>\n",
              "    </tr>\n",
              "    <tr>\n",
              "      <th>2</th>\n",
              "      <td>957</td>\n",
              "      <td>475</td>\n",
              "      <td>482</td>\n",
              "    </tr>\n",
              "    <tr>\n",
              "      <th>3</th>\n",
              "      <td>573</td>\n",
              "      <td>284</td>\n",
              "      <td>289</td>\n",
              "    </tr>\n",
              "    <tr>\n",
              "      <th>4</th>\n",
              "      <td>533</td>\n",
              "      <td>260</td>\n",
              "      <td>273</td>\n",
              "    </tr>\n",
              "    <tr>\n",
              "      <th>5</th>\n",
              "      <td>376</td>\n",
              "      <td>180</td>\n",
              "      <td>196</td>\n",
              "    </tr>\n",
              "    <tr>\n",
              "      <th>...</th>\n",
              "      <td>...</td>\n",
              "      <td>...</td>\n",
              "      <td>...</td>\n",
              "    </tr>\n",
              "    <tr>\n",
              "      <th>105</th>\n",
              "      <td>5</td>\n",
              "      <td>0</td>\n",
              "      <td>5</td>\n",
              "    </tr>\n",
              "    <tr>\n",
              "      <th>110</th>\n",
              "      <td>7</td>\n",
              "      <td>2</td>\n",
              "      <td>5</td>\n",
              "    </tr>\n",
              "    <tr>\n",
              "      <th>111</th>\n",
              "      <td>1</td>\n",
              "      <td>0</td>\n",
              "      <td>1</td>\n",
              "    </tr>\n",
              "    <tr>\n",
              "      <th>115</th>\n",
              "      <td>3</td>\n",
              "      <td>0</td>\n",
              "      <td>3</td>\n",
              "    </tr>\n",
              "    <tr>\n",
              "      <th>116</th>\n",
              "      <td>4</td>\n",
              "      <td>0</td>\n",
              "      <td>4</td>\n",
              "    </tr>\n",
              "  </tbody>\n",
              "</table>\n",
              "<p>104 rows × 3 columns</p>\n",
              "</div>\n",
              "      <button class=\"colab-df-convert\" onclick=\"convertToInteractive('df-c19929a8-7b70-4b41-89f2-5fc9a4b5d2bf')\"\n",
              "              title=\"Convert this dataframe to an interactive table.\"\n",
              "              style=\"display:none;\">\n",
              "        \n",
              "  <svg xmlns=\"http://www.w3.org/2000/svg\" height=\"24px\"viewBox=\"0 0 24 24\"\n",
              "       width=\"24px\">\n",
              "    <path d=\"M0 0h24v24H0V0z\" fill=\"none\"/>\n",
              "    <path d=\"M18.56 5.44l.94 2.06.94-2.06 2.06-.94-2.06-.94-.94-2.06-.94 2.06-2.06.94zm-11 1L8.5 8.5l.94-2.06 2.06-.94-2.06-.94L8.5 2.5l-.94 2.06-2.06.94zm10 10l.94 2.06.94-2.06 2.06-.94-2.06-.94-.94-2.06-.94 2.06-2.06.94z\"/><path d=\"M17.41 7.96l-1.37-1.37c-.4-.4-.92-.59-1.43-.59-.52 0-1.04.2-1.43.59L10.3 9.45l-7.72 7.72c-.78.78-.78 2.05 0 2.83L4 21.41c.39.39.9.59 1.41.59.51 0 1.02-.2 1.41-.59l7.78-7.78 2.81-2.81c.8-.78.8-2.07 0-2.86zM5.41 20L4 18.59l7.72-7.72 1.47 1.35L5.41 20z\"/>\n",
              "  </svg>\n",
              "      </button>\n",
              "      \n",
              "  <style>\n",
              "    .colab-df-container {\n",
              "      display:flex;\n",
              "      flex-wrap:wrap;\n",
              "      gap: 12px;\n",
              "    }\n",
              "\n",
              "    .colab-df-convert {\n",
              "      background-color: #E8F0FE;\n",
              "      border: none;\n",
              "      border-radius: 50%;\n",
              "      cursor: pointer;\n",
              "      display: none;\n",
              "      fill: #1967D2;\n",
              "      height: 32px;\n",
              "      padding: 0 0 0 0;\n",
              "      width: 32px;\n",
              "    }\n",
              "\n",
              "    .colab-df-convert:hover {\n",
              "      background-color: #E2EBFA;\n",
              "      box-shadow: 0px 1px 2px rgba(60, 64, 67, 0.3), 0px 1px 3px 1px rgba(60, 64, 67, 0.15);\n",
              "      fill: #174EA6;\n",
              "    }\n",
              "\n",
              "    [theme=dark] .colab-df-convert {\n",
              "      background-color: #3B4455;\n",
              "      fill: #D2E3FC;\n",
              "    }\n",
              "\n",
              "    [theme=dark] .colab-df-convert:hover {\n",
              "      background-color: #434B5C;\n",
              "      box-shadow: 0px 1px 3px 1px rgba(0, 0, 0, 0.15);\n",
              "      filter: drop-shadow(0px 1px 2px rgba(0, 0, 0, 0.3));\n",
              "      fill: #FFFFFF;\n",
              "    }\n",
              "  </style>\n",
              "\n",
              "      <script>\n",
              "        const buttonEl =\n",
              "          document.querySelector('#df-c19929a8-7b70-4b41-89f2-5fc9a4b5d2bf button.colab-df-convert');\n",
              "        buttonEl.style.display =\n",
              "          google.colab.kernel.accessAllowed ? 'block' : 'none';\n",
              "\n",
              "        async function convertToInteractive(key) {\n",
              "          const element = document.querySelector('#df-c19929a8-7b70-4b41-89f2-5fc9a4b5d2bf');\n",
              "          const dataTable =\n",
              "            await google.colab.kernel.invokeFunction('convertToInteractive',\n",
              "                                                     [key], {});\n",
              "          if (!dataTable) return;\n",
              "\n",
              "          const docLinkHtml = 'Like what you see? Visit the ' +\n",
              "            '<a target=\"_blank\" href=https://colab.research.google.com/notebooks/data_table.ipynb>data table notebook</a>'\n",
              "            + ' to learn more about interactive tables.';\n",
              "          element.innerHTML = '';\n",
              "          dataTable['output_type'] = 'display_data';\n",
              "          await google.colab.output.renderOutput(dataTable, element);\n",
              "          const docLink = document.createElement('div');\n",
              "          docLink.innerHTML = docLinkHtml;\n",
              "          element.appendChild(docLink);\n",
              "        }\n",
              "      </script>\n",
              "    </div>\n",
              "  </div>\n",
              "  "
            ]
          },
          "metadata": {},
          "execution_count": 22
        }
      ]
    },
    {
      "cell_type": "code",
      "source": [
        "# Exporting above created dataframe as a CSV file.\n",
        "\n",
        "images_df.to_csv(\"/content/drive/My Drive/Age_Detection/image_summary.csv\", index=True, index_label='age')"
      ],
      "metadata": {
        "id": "PTgv3NHeSYo1"
      },
      "execution_count": 23,
      "outputs": []
    },
    {
      "cell_type": "code",
      "source": [
        "# Plotting the no. of images by ages in a barplot.\n",
        "\n",
        "plt.figure(figsize=(30, 10))\n",
        "\n",
        "ax = sns.barplot(x=images_df.index, y=images_df['facial_age_images'], color='royalblue')\n",
        "\n",
        "ax.tick_params(axis='both', labelsize=12)\n",
        "ax.tick_params(axis='x', labelrotation=45)\n",
        "\n",
        "plt.xlabel(\"Age\", fontsize=16)\n",
        "plt.ylabel(\"No. of Images\", fontsize=16)\n",
        "\n",
        "plt.title(\"Barplot showing No. of images in facial-age dataset by Age\", fontsize=18)\n",
        "\n",
        "# Exporting plot image in PNG format.\n",
        "plt.savefig('/content/drive/My Drive/Age_Detection/plot_images/barplot_facial_age_images.png', bbox_inches='tight');"
      ],
      "metadata": {
        "colab": {
          "base_uri": "https://localhost:8080/",
          "height": 459
        },
        "id": "hFzBUmzwS41u",
        "outputId": "b2f19433-cd15-43da-8b9c-12073d8f873d"
      },
      "execution_count": 25,
      "outputs": [
        {
          "output_type": "display_data",
          "data": {
            "text/plain": [
              "<Figure size 2160x720 with 1 Axes>"
            ],
            "image/png": "[encoded data removed]"
          },
          "metadata": {
            "needs_background": "light"
          }
        }
      ]
    },
    {
      "cell_type": "code",
      "source": [
        ""
      ],
      "metadata": {
        "id": "9ooevH6pS9Ja"
      },
      "execution_count": null,
      "outputs": []
    }
  ]
}