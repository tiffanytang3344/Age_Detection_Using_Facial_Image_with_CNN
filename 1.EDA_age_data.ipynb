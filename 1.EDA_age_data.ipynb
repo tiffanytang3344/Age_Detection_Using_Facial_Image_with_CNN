{
  "nbformat": 4,
  "nbformat_minor": 0,
  "metadata": {
    "colab": {
      "name": "EDA_age_data.ipynb",
      "provenance": [],
      "collapsed_sections": [],
      "mount_file_id": "1xtZxUwBrFQLpTkPKagwVpbRaJUTqORf8",
      "authorship_tag": "ABX9TyN1R7jCZl6i38eRCQWKtcoR",
      "include_colab_link": true
    },
    "kernelspec": {
      "name": "python3",
      "display_name": "Python 3"
    },
    "language_info": {
      "name": "python"
    }
  },
  "cells": [
    {
      "cell_type": "markdown",
      "metadata": {
        "id": "view-in-github",
        "colab_type": "text"
      },
      "source": [
        "<a href=\"https://colab.research.google.com/github/tiffanytang34/Age_Detection_Using_Facial_Image_with_CNN/blob/main/1.EDA_age_data.ipynb\" target=\"_parent\"><img src=\"https://colab.research.google.com/assets/colab-badge.svg\" alt=\"Open In Colab\"/></a>"
      ]
    },
    {
      "cell_type": "code",
      "execution_count": 2,
      "metadata": {
        "id": "-gYZw7SEm25V"
      },
      "outputs": [],
      "source": [
        "# Imports\n",
        "\n",
        "from zipfile import ZipFile\n",
        "import os\n",
        "import shutil\n",
        "import numpy as np\n",
        "import pandas as pd\n",
        "import matplotlib.pyplot as plt\n",
        "import seaborn as sns\n",
        "import cv2"
      ]
    },
    {
      "cell_type": "markdown",
      "source": [
        "Exploratory Data Analysis"
      ],
      "metadata": {
        "id": "z4J382BEnMaq"
      }
    },
    {
      "cell_type": "markdown",
      "source": [
        "### *facial-age* dataset (9,778 images)"
      ],
      "metadata": {
        "id": "GQq7SWSyrLL4"
      }
    },
    {
      "cell_type": "code",
      "source": [
        "# Unzipping the dataset file facial-age.zip\n",
        "\n",
        "#!unzip facial-age.zip\n",
        "facial_age_zip_path = \"/content/drive/My Drive/Age_Detection/facial-age.zip\"\n",
        "\n",
        "with ZipFile(facial_age_zip_path, 'r') as myzip:\n",
        "    myzip.extractall()\n",
        "    print('Done unzipping facial-age.zip')"
      ],
      "metadata": {
        "colab": {
          "base_uri": "https://localhost:8080/"
        },
        "id": "X5XIqbLEnJJd",
        "outputId": "aa93bbe8-728a-4011-c0cb-72742dcc6159"
      },
      "execution_count": 3,
      "outputs": [
        {
          "output_type": "stream",
          "name": "stdout",
          "text": [
            "Done unzipping facial-age.zip\n"
          ]
        }
      ]
    },
    {
      "cell_type": "markdown",
      "source": [
        "***facial-age* dataset** contains **9,778 RGB images of faces** in **PNG** format of size **200x200 pixels** each. The images are separated into folders where the **folder names correspond to the age labels of images inside those folders**."
      ],
      "metadata": {
        "id": "GTUIrIbts-WD"
      }
    },
    {
      "cell_type": "code",
      "source": [
        "# Accessing all folder names to get list of labels.\n",
        "\n",
        "facial_age_path = \"facial-age\"\n",
        "facial_age_folders = os.listdir(facial_age_path)"
      ],
      "metadata": {
        "id": "HIXvuo9BqgRE"
      },
      "execution_count": 4,
      "outputs": []
    },
    {
      "cell_type": "code",
      "source": [
        "# Sorting the folder names (age labels) in ascending order.\n",
        "\n",
        "facial_age_folders = np.sort(facial_age_folders)\n",
        "facial_age_folders"
      ],
      "metadata": {
        "colab": {
          "base_uri": "https://localhost:8080/"
        },
        "id": "1ePlay9ntH3Q",
        "outputId": "0ee47900-8860-4e62-aa0c-4f7311c61ca8"
      },
      "execution_count": 5,
      "outputs": [
        {
          "output_type": "execute_result",
          "data": {
            "text/plain": [
              "array(['001', '002', '003', '004', '005', '006', '007', '008', '009',\n",
              "       '010', '011', '012', '013', '014', '015', '016', '017', '018',\n",
              "       '019', '020', '021', '022', '023', '024', '025', '026', '027',\n",
              "       '028', '029', '030', '031', '032', '033', '034', '035', '036',\n",
              "       '037', '038', '039', '040', '041', '042', '043', '044', '045',\n",
              "       '046', '047', '048', '049', '050', '051', '052', '053', '054',\n",
              "       '055', '056', '057', '058', '059', '060', '061', '062', '063',\n",
              "       '064', '065', '066', '067', '068', '069', '070', '071', '072',\n",
              "       '073', '074', '075', '076', '077', '078', '079', '080', '081',\n",
              "       '082', '083', '084', '085', '086', '087', '088', '089', '090',\n",
              "       '091', '092', '093', '095', '096', '099', '100', '101', '110'],\n",
              "      dtype='<U3')"
            ]
          },
          "metadata": {},
          "execution_count": 5
        }
      ]
    },
    {
      "cell_type": "markdown",
      "source": [
        " Access the images in the folder and store the info inside a dictionary which has age labels as keys and number of images of certain ages as values. "
      ],
      "metadata": {
        "id": "kachGVdj21mH"
      }
    },
    {
      "cell_type": "code",
      "source": [
        "facial_age_images = {}\n",
        "\n",
        "for age in facial_age_folders:\n",
        "    temp_path = os.path.join(facial_age_path, age)\n",
        "    n_images = len(os.listdir(temp_path))\n",
        "    facial_age_images[int(age)] = n_images"
      ],
      "metadata": {
        "id": "kZlzCLDstmAD"
      },
      "execution_count": 6,
      "outputs": []
    },
    {
      "cell_type": "markdown",
      "source": [
        "### *UTKFace* dataset (23,708 images)"
      ],
      "metadata": {
        "id": "zW7e4kJh3d2W"
      }
    },
    {
      "cell_type": "code",
      "source": [
        "# Unzipping the dataset file UTKFace.zip\n",
        "\n",
        "utkface_zip_path = \"/content/drive/My Drive/Age_Detection/UTKFace.zip\"\n",
        "\n",
        "with ZipFile(utkface_zip_path, 'r') as myzip:\n",
        "    myzip.extractall()\n",
        "    print('Done unzipping UTKFace.zip')"
      ],
      "metadata": {
        "colab": {
          "base_uri": "https://localhost:8080/"
        },
        "id": "pcu0pC743ebH",
        "outputId": "2eae87ab-6134-4a02-972e-30e5fbaf12b6"
      },
      "execution_count": 7,
      "outputs": [
        {
          "output_type": "stream",
          "name": "stdout",
          "text": [
            "Done unzipping UTKFace.zip\n"
          ]
        }
      ]
    },
    {
      "cell_type": "markdown",
      "source": [
        "***UTKFace* dataset** contains **23,708 RGB images of faces** in **JPG** format of size **200x200 pixels** each. The **labels of images are embedded in the file names, formatted like *\\[age]\\_\\[gender]\\_\\[race]\\_\\[date&time].jpg***."
      ],
      "metadata": {
        "id": "OUHTOReK4DyH"
      }
    },
    {
      "cell_type": "code",
      "source": [
        "# Accessing all image file names so as to be able to separate the age labels.\n",
        "\n",
        "utkface_path = '/content/UTKFace'\n",
        "utkface_image_names = os.listdir(utkface_path)"
      ],
      "metadata": {
        "id": "DmEngIz-4ElG"
      },
      "execution_count": 8,
      "outputs": []
    },
    {
      "cell_type": "code",
      "source": [
        "# Defining a function to generate the labels from the image file names according to the format given above.\n",
        "\n",
        "def age_gender_race_split(image_name):\n",
        "    image_labels = image_name.split('_')\n",
        "    age = image_labels[0]\n",
        "    gender = image_labels[1]\n",
        "    race = image_labels[2]\n",
        "\n",
        "    return (age, gender, race)"
      ],
      "metadata": {
        "id": "0tfl4EBD4c4o"
      },
      "execution_count": 9,
      "outputs": []
    },
    {
      "cell_type": "code",
      "source": [
        "# Applying the above function on each image file name using a for loop and storing the labels in relevant arrays.\n",
        "\n",
        "utkface_age_labels = np.array([])\n",
        "utkface_gender_labels = np.array([])\n",
        "utkface_race_labels = np.array([])\n",
        "\n",
        "for image in utkface_image_names:\n",
        "    age, gender, race = age_gender_race_split(image)\n",
        "    utkface_age_labels = np.append(utkface_age_labels, age)\n",
        "    utkface_gender_labels = np.append(utkface_gender_labels, gender)\n",
        "    utkface_race_labels = np.append(utkface_race_labels, race)"
      ],
      "metadata": {
        "id": "_GFHuha94nMJ"
      },
      "execution_count": 10,
      "outputs": []
    },
    {
      "cell_type": "code",
      "source": [
        "# Grouping by the age labels and checking the no. of images per age label.\n",
        "\n",
        "utkface_ages_counts = pd.Series(utkface_age_labels).value_counts()\n",
        "utkface_ages_counts"
      ],
      "metadata": {
        "colab": {
          "base_uri": "https://localhost:8080/"
        },
        "id": "7_SiRERQ4qAo",
        "outputId": "e6687b52-ae33-46a6-8806-e2563c69c77f"
      },
      "execution_count": 11,
      "outputs": [
        {
          "output_type": "execute_result",
          "data": {
            "text/plain": [
              "26     2197\n",
              "1      1123\n",
              "28      918\n",
              "35      880\n",
              "24      859\n",
              "       ... \n",
              "115       3\n",
              "91        2\n",
              "101       2\n",
              "111       1\n",
              "103       1\n",
              "Length: 104, dtype: int64"
            ]
          },
          "metadata": {},
          "execution_count": 11
        }
      ]
    },
    {
      "cell_type": "code",
      "source": [
        "# Storing the grouped age labels series generated above in a dictionary with\n",
        "# the age labels as keys and the no. of images per age label as values.\n",
        "\n",
        "utkface_images = {}\n",
        "\n",
        "for age, counts in utkface_ages_counts.items():\n",
        "    utkface_images[int(age)] = counts"
      ],
      "metadata": {
        "id": "nFbIXETv45O7"
      },
      "execution_count": 12,
      "outputs": []
    },
    {
      "cell_type": "code",
      "source": [
        "# Grouping by the gender labels and checking the no. of images per gender label.\n",
        "# 0 = Male, 1 = Female\n",
        "# This is just for extra info and will not be used in the model.\n",
        "\n",
        "pd.Series(utkface_gender_labels).value_counts()"
      ],
      "metadata": {
        "colab": {
          "base_uri": "https://localhost:8080/"
        },
        "id": "isRD3nI95Xkl",
        "outputId": "bdb98e6f-5335-439b-fe66-65ce64ca9bce"
      },
      "execution_count": 13,
      "outputs": [
        {
          "output_type": "execute_result",
          "data": {
            "text/plain": [
              "0    12391\n",
              "1    11317\n",
              "dtype: int64"
            ]
          },
          "metadata": {},
          "execution_count": 13
        }
      ]
    },
    {
      "cell_type": "code",
      "source": [
        "# Grouping by the race labels and checking the no. of images per race label.\n",
        "# 0 = White, 1 = Black, 2 = Asian, 3 = Indian, 4 = Others (like Hispanic, Latino, Middle Eastern)\n",
        "# This is just for extra info and will not be used in the model.\n",
        "\n",
        "pd.Series(utkface_race_labels).value_counts()\n",
        "\n",
        "# 3 images don't have race labels in their file name, as seen below."
      ],
      "metadata": {
        "colab": {
          "base_uri": "https://localhost:8080/"
        },
        "id": "pQ0eHb455oG_",
        "outputId": "d5630a2d-ddc8-4756-adda-5a2afb838254"
      },
      "execution_count": 14,
      "outputs": [
        {
          "output_type": "execute_result",
          "data": {
            "text/plain": [
              "0                                 10078\n",
              "1                                  4526\n",
              "3                                  3975\n",
              "2                                  3434\n",
              "4                                  1692\n",
              "20170109142408075.jpg.chip.jpg        1\n",
              "20170109150557335.jpg.chip.jpg        1\n",
              "20170116174525125.jpg.chip.jpg        1\n",
              "dtype: int64"
            ]
          },
          "metadata": {},
          "execution_count": 14
        }
      ]
    },
    {
      "cell_type": "markdown",
      "source": [
        "### Classes for Age Classification"
      ],
      "metadata": {
        "id": "LO_qWreQ_972"
      }
    },
    {
      "cell_type": "markdown",
      "source": [
        "In this part, I will **combine the different age labels into classes of age-ranges** so as to prepare the datasets for age classification modelling later. \n",
        "The classes of ages need to be established according to the number of images available per age label. In this way, the classes of ages will be balanced. This will ensure that the classification model learns to classify each age-range equally."
      ],
      "metadata": {
        "id": "M76Fl3on__gy"
      }
    },
    {
      "cell_type": "code",
      "source": [
        "# Checking no. of unique age values in facial-age dataset.\n",
        "\n",
        "facial_age_ages = list(facial_age_images.keys())\n",
        "len(facial_age_ages)"
      ],
      "metadata": {
        "id": "qk6KhBHyC18S",
        "outputId": "f4243e1a-a3b3-419e-c1fe-0e64caf6b532",
        "colab": {
          "base_uri": "https://localhost:8080/"
        }
      },
      "execution_count": 15,
      "outputs": [
        {
          "output_type": "execute_result",
          "data": {
            "text/plain": [
              "99"
            ]
          },
          "metadata": {},
          "execution_count": 15
        }
      ]
    },
    {
      "cell_type": "code",
      "source": [
        "# Checking no. of unique age values in UTKFace dataset.\n",
        "\n",
        "utkface_ages = list(utkface_images.keys())\n",
        "len(utkface_ages)"
      ],
      "metadata": {
        "id": "MPM2ZhBjC4Ra",
        "outputId": "c20fc548-8ae5-4e51-cc52-d3c5beedd5a2",
        "colab": {
          "base_uri": "https://localhost:8080/"
        }
      },
      "execution_count": 16,
      "outputs": [
        {
          "output_type": "execute_result",
          "data": {
            "text/plain": [
              "104"
            ]
          },
          "metadata": {},
          "execution_count": 16
        }
      ]
    },
    {
      "cell_type": "code",
      "source": [
        "# Combining the lists of age values from the two datasets and\n",
        "# converting the combined list to a set to keep only the unique age values.\n",
        "\n",
        "facial_age_ages.extend(utkface_ages)\n",
        "unique_ages = set(facial_age_ages)"
      ],
      "metadata": {
        "id": "3fojIBlq5p9G"
      },
      "execution_count": 17,
      "outputs": []
    },
    {
      "cell_type": "code",
      "source": [
        "# Checking no. of unique age values in both datasets combined.\n",
        "\n",
        "len(unique_ages)"
      ],
      "metadata": {
        "colab": {
          "base_uri": "https://localhost:8080/"
        },
        "id": "-A7oK--mB2yR",
        "outputId": "d9c5175a-ddaa-4831-c4dd-998b66945330"
      },
      "execution_count": 18,
      "outputs": [
        {
          "output_type": "execute_result",
          "data": {
            "text/plain": [
              "104"
            ]
          },
          "metadata": {},
          "execution_count": 18
        }
      ]
    },
    {
      "cell_type": "code",
      "source": [
        "# Creating a dictionary of age labels as keys and no. of images per age label in both datasets combined as values,\n",
        "# using the two dictionaries defined above.\n",
        "\n",
        "combined_images = {}\n",
        "\n",
        "for age in unique_ages:\n",
        "    fc_image = 0\n",
        "    utk_image = 0\n",
        "\n",
        "    # Using try-except loop to avoid KeyError in case a particular age value does not exist in the dictionary.\n",
        "    try:\n",
        "        fc_image = facial_age_images[age]\n",
        "    except:\n",
        "        pass\n",
        "    \n",
        "    try:\n",
        "        utk_image = utkface_images[age]\n",
        "    except:\n",
        "        pass\n",
        "    \n",
        "    # Summing up the no. of images for the age label.\n",
        "    combined_images[age] = fc_image + utk_image"
      ],
      "metadata": {
        "id": "Xjr9-_akSI7t"
      },
      "execution_count": 19,
      "outputs": []
    },
    {
      "cell_type": "code",
      "source": [
        "# Checking total no. of images in both datasets combined to ensure correctness of above code.\n",
        "\n",
        "sum(combined_images.values())"
      ],
      "metadata": {
        "colab": {
          "base_uri": "https://localhost:8080/"
        },
        "id": "Wnsf-WsmSMqG",
        "outputId": "10083aeb-3d5e-4521-cfab-18211610f23f"
      },
      "execution_count": 20,
      "outputs": [
        {
          "output_type": "execute_result",
          "data": {
            "text/plain": [
              "33486"
            ]
          },
          "metadata": {},
          "execution_count": 20
        }
      ]
    },
    {
      "cell_type": "code",
      "source": [
        "# Checking total no. of images by summing up no. of images in facial-age and UTKFace datasets.\n",
        "\n",
        "sum(facial_age_images.values()) + sum(utkface_images.values())"
      ],
      "metadata": {
        "colab": {
          "base_uri": "https://localhost:8080/"
        },
        "id": "dQzRnf6TSQjm",
        "outputId": "fe183838-6e22-46c2-db10-61058d9e6aaf"
      },
      "execution_count": 21,
      "outputs": [
        {
          "output_type": "execute_result",
          "data": {
            "text/plain": [
              "33486"
            ]
          },
          "metadata": {},
          "execution_count": 21
        }
      ]
    },
    {
      "cell_type": "code",
      "source": [
        "# Creating a dataframe to store the no. of images per age label in facial-age dataset, UTKFace dataset and the combined dataset.\n",
        "\n",
        "images_df = pd.DataFrame(combined_images.values(), index=combined_images.keys(), columns=['combined_images'])\n",
        "images_df['facial_age_images'] = pd.Series(facial_age_images)\n",
        "images_df['utkface_images'] = pd.Series(utkface_images)\n",
        "\n",
        "images_df"
      ],
      "metadata": {
        "colab": {
          "base_uri": "https://localhost:8080/",
          "height": 423
        },
        "id": "rSD4tt4fSS22",
        "outputId": "0f680ea5-6a26-4f85-c46f-d5008a7dbef6"
      },
      "execution_count": 22,
      "outputs": [
        {
          "output_type": "execute_result",
          "data": {
            "text/plain": [
              "     combined_images  facial_age_images  utkface_images\n",
              "1               2235             1112.0            1123\n",
              "2                957              475.0             482\n",
              "3                573              284.0             289\n",
              "4                533              260.0             273\n",
              "5                376              180.0             196\n",
              "..               ...                ...             ...\n",
              "105                5                NaN               5\n",
              "110                7                2.0               5\n",
              "111                1                NaN               1\n",
              "115                3                NaN               3\n",
              "116                4                NaN               4\n",
              "\n",
              "[104 rows x 3 columns]"
            ],
            "text/html": [
              "\n",
              "  <div id=\"df-012e23d1-82df-43d0-a955-5a34fb6410c3\">\n",
              "    <div class=\"colab-df-container\">\n",
              "      <div>\n",
              "<style scoped>\n",
              "    .dataframe tbody tr th:only-of-type {\n",
              "        vertical-align: middle;\n",
              "    }\n",
              "\n",
              "    .dataframe tbody tr th {\n",
              "        vertical-align: top;\n",
              "    }\n",
              "\n",
              "    .dataframe thead th {\n",
              "        text-align: right;\n",
              "    }\n",
              "</style>\n",
              "<table border=\"1\" class=\"dataframe\">\n",
              "  <thead>\n",
              "    <tr style=\"text-align: right;\">\n",
              "      <th></th>\n",
              "      <th>combined_images</th>\n",
              "      <th>facial_age_images</th>\n",
              "      <th>utkface_images</th>\n",
              "    </tr>\n",
              "  </thead>\n",
              "  <tbody>\n",
              "    <tr>\n",
              "      <th>1</th>\n",
              "      <td>2235</td>\n",
              "      <td>1112.0</td>\n",
              "      <td>1123</td>\n",
              "    </tr>\n",
              "    <tr>\n",
              "      <th>2</th>\n",
              "      <td>957</td>\n",
              "      <td>475.0</td>\n",
              "      <td>482</td>\n",
              "    </tr>\n",
              "    <tr>\n",
              "      <th>3</th>\n",
              "      <td>573</td>\n",
              "      <td>284.0</td>\n",
              "      <td>289</td>\n",
              "    </tr>\n",
              "    <tr>\n",
              "      <th>4</th>\n",
              "      <td>533</td>\n",
              "      <td>260.0</td>\n",
              "      <td>273</td>\n",
              "    </tr>\n",
              "    <tr>\n",
              "      <th>5</th>\n",
              "      <td>376</td>\n",
              "      <td>180.0</td>\n",
              "      <td>196</td>\n",
              "    </tr>\n",
              "    <tr>\n",
              "      <th>...</th>\n",
              "      <td>...</td>\n",
              "      <td>...</td>\n",
              "      <td>...</td>\n",
              "    </tr>\n",
              "    <tr>\n",
              "      <th>105</th>\n",
              "      <td>5</td>\n",
              "      <td>NaN</td>\n",
              "      <td>5</td>\n",
              "    </tr>\n",
              "    <tr>\n",
              "      <th>110</th>\n",
              "      <td>7</td>\n",
              "      <td>2.0</td>\n",
              "      <td>5</td>\n",
              "    </tr>\n",
              "    <tr>\n",
              "      <th>111</th>\n",
              "      <td>1</td>\n",
              "      <td>NaN</td>\n",
              "      <td>1</td>\n",
              "    </tr>\n",
              "    <tr>\n",
              "      <th>115</th>\n",
              "      <td>3</td>\n",
              "      <td>NaN</td>\n",
              "      <td>3</td>\n",
              "    </tr>\n",
              "    <tr>\n",
              "      <th>116</th>\n",
              "      <td>4</td>\n",
              "      <td>NaN</td>\n",
              "      <td>4</td>\n",
              "    </tr>\n",
              "  </tbody>\n",
              "</table>\n",
              "<p>104 rows × 3 columns</p>\n",
              "</div>\n",
              "      <button class=\"colab-df-convert\" onclick=\"convertToInteractive('df-012e23d1-82df-43d0-a955-5a34fb6410c3')\"\n",
              "              title=\"Convert this dataframe to an interactive table.\"\n",
              "              style=\"display:none;\">\n",
              "        \n",
              "  <svg xmlns=\"http://www.w3.org/2000/svg\" height=\"24px\"viewBox=\"0 0 24 24\"\n",
              "       width=\"24px\">\n",
              "    <path d=\"M0 0h24v24H0V0z\" fill=\"none\"/>\n",
              "    <path d=\"M18.56 5.44l.94 2.06.94-2.06 2.06-.94-2.06-.94-.94-2.06-.94 2.06-2.06.94zm-11 1L8.5 8.5l.94-2.06 2.06-.94-2.06-.94L8.5 2.5l-.94 2.06-2.06.94zm10 10l.94 2.06.94-2.06 2.06-.94-2.06-.94-.94-2.06-.94 2.06-2.06.94z\"/><path d=\"M17.41 7.96l-1.37-1.37c-.4-.4-.92-.59-1.43-.59-.52 0-1.04.2-1.43.59L10.3 9.45l-7.72 7.72c-.78.78-.78 2.05 0 2.83L4 21.41c.39.39.9.59 1.41.59.51 0 1.02-.2 1.41-.59l7.78-7.78 2.81-2.81c.8-.78.8-2.07 0-2.86zM5.41 20L4 18.59l7.72-7.72 1.47 1.35L5.41 20z\"/>\n",
              "  </svg>\n",
              "      </button>\n",
              "      \n",
              "  <style>\n",
              "    .colab-df-container {\n",
              "      display:flex;\n",
              "      flex-wrap:wrap;\n",
              "      gap: 12px;\n",
              "    }\n",
              "\n",
              "    .colab-df-convert {\n",
              "      background-color: #E8F0FE;\n",
              "      border: none;\n",
              "      border-radius: 50%;\n",
              "      cursor: pointer;\n",
              "      display: none;\n",
              "      fill: #1967D2;\n",
              "      height: 32px;\n",
              "      padding: 0 0 0 0;\n",
              "      width: 32px;\n",
              "    }\n",
              "\n",
              "    .colab-df-convert:hover {\n",
              "      background-color: #E2EBFA;\n",
              "      box-shadow: 0px 1px 2px rgba(60, 64, 67, 0.3), 0px 1px 3px 1px rgba(60, 64, 67, 0.15);\n",
              "      fill: #174EA6;\n",
              "    }\n",
              "\n",
              "    [theme=dark] .colab-df-convert {\n",
              "      background-color: #3B4455;\n",
              "      fill: #D2E3FC;\n",
              "    }\n",
              "\n",
              "    [theme=dark] .colab-df-convert:hover {\n",
              "      background-color: #434B5C;\n",
              "      box-shadow: 0px 1px 3px 1px rgba(0, 0, 0, 0.15);\n",
              "      filter: drop-shadow(0px 1px 2px rgba(0, 0, 0, 0.3));\n",
              "      fill: #FFFFFF;\n",
              "    }\n",
              "  </style>\n",
              "\n",
              "      <script>\n",
              "        const buttonEl =\n",
              "          document.querySelector('#df-012e23d1-82df-43d0-a955-5a34fb6410c3 button.colab-df-convert');\n",
              "        buttonEl.style.display =\n",
              "          google.colab.kernel.accessAllowed ? 'block' : 'none';\n",
              "\n",
              "        async function convertToInteractive(key) {\n",
              "          const element = document.querySelector('#df-012e23d1-82df-43d0-a955-5a34fb6410c3');\n",
              "          const dataTable =\n",
              "            await google.colab.kernel.invokeFunction('convertToInteractive',\n",
              "                                                     [key], {});\n",
              "          if (!dataTable) return;\n",
              "\n",
              "          const docLinkHtml = 'Like what you see? Visit the ' +\n",
              "            '<a target=\"_blank\" href=https://colab.research.google.com/notebooks/data_table.ipynb>data table notebook</a>'\n",
              "            + ' to learn more about interactive tables.';\n",
              "          element.innerHTML = '';\n",
              "          dataTable['output_type'] = 'display_data';\n",
              "          await google.colab.output.renderOutput(dataTable, element);\n",
              "          const docLink = document.createElement('div');\n",
              "          docLink.innerHTML = docLinkHtml;\n",
              "          element.appendChild(docLink);\n",
              "        }\n",
              "      </script>\n",
              "    </div>\n",
              "  </div>\n",
              "  "
            ]
          },
          "metadata": {},
          "execution_count": 22
        }
      ]
    },
    {
      "cell_type": "code",
      "source": [
        "# Imputing the null values in above dataframe with 0s.\n",
        "\n",
        "images_df.fillna(0, inplace=True)\n",
        "images_df = images_df.astype(int)\n",
        "\n",
        "images_df"
      ],
      "metadata": {
        "colab": {
          "base_uri": "https://localhost:8080/",
          "height": 423
        },
        "id": "72Q0BnQxSVDV",
        "outputId": "dbdc64e6-5aa0-4d0b-eadd-839aaffa81fc"
      },
      "execution_count": 23,
      "outputs": [
        {
          "output_type": "execute_result",
          "data": {
            "text/plain": [
              "     combined_images  facial_age_images  utkface_images\n",
              "1               2235               1112            1123\n",
              "2                957                475             482\n",
              "3                573                284             289\n",
              "4                533                260             273\n",
              "5                376                180             196\n",
              "..               ...                ...             ...\n",
              "105                5                  0               5\n",
              "110                7                  2               5\n",
              "111                1                  0               1\n",
              "115                3                  0               3\n",
              "116                4                  0               4\n",
              "\n",
              "[104 rows x 3 columns]"
            ],
            "text/html": [
              "\n",
              "  <div id=\"df-7b9e3c2b-e664-429b-b9dd-3963f453dc76\">\n",
              "    <div class=\"colab-df-container\">\n",
              "      <div>\n",
              "<style scoped>\n",
              "    .dataframe tbody tr th:only-of-type {\n",
              "        vertical-align: middle;\n",
              "    }\n",
              "\n",
              "    .dataframe tbody tr th {\n",
              "        vertical-align: top;\n",
              "    }\n",
              "\n",
              "    .dataframe thead th {\n",
              "        text-align: right;\n",
              "    }\n",
              "</style>\n",
              "<table border=\"1\" class=\"dataframe\">\n",
              "  <thead>\n",
              "    <tr style=\"text-align: right;\">\n",
              "      <th></th>\n",
              "      <th>combined_images</th>\n",
              "      <th>facial_age_images</th>\n",
              "      <th>utkface_images</th>\n",
              "    </tr>\n",
              "  </thead>\n",
              "  <tbody>\n",
              "    <tr>\n",
              "      <th>1</th>\n",
              "      <td>2235</td>\n",
              "      <td>1112</td>\n",
              "      <td>1123</td>\n",
              "    </tr>\n",
              "    <tr>\n",
              "      <th>2</th>\n",
              "      <td>957</td>\n",
              "      <td>475</td>\n",
              "      <td>482</td>\n",
              "    </tr>\n",
              "    <tr>\n",
              "      <th>3</th>\n",
              "      <td>573</td>\n",
              "      <td>284</td>\n",
              "      <td>289</td>\n",
              "    </tr>\n",
              "    <tr>\n",
              "      <th>4</th>\n",
              "      <td>533</td>\n",
              "      <td>260</td>\n",
              "      <td>273</td>\n",
              "    </tr>\n",
              "    <tr>\n",
              "      <th>5</th>\n",
              "      <td>376</td>\n",
              "      <td>180</td>\n",
              "      <td>196</td>\n",
              "    </tr>\n",
              "    <tr>\n",
              "      <th>...</th>\n",
              "      <td>...</td>\n",
              "      <td>...</td>\n",
              "      <td>...</td>\n",
              "    </tr>\n",
              "    <tr>\n",
              "      <th>105</th>\n",
              "      <td>5</td>\n",
              "      <td>0</td>\n",
              "      <td>5</td>\n",
              "    </tr>\n",
              "    <tr>\n",
              "      <th>110</th>\n",
              "      <td>7</td>\n",
              "      <td>2</td>\n",
              "      <td>5</td>\n",
              "    </tr>\n",
              "    <tr>\n",
              "      <th>111</th>\n",
              "      <td>1</td>\n",
              "      <td>0</td>\n",
              "      <td>1</td>\n",
              "    </tr>\n",
              "    <tr>\n",
              "      <th>115</th>\n",
              "      <td>3</td>\n",
              "      <td>0</td>\n",
              "      <td>3</td>\n",
              "    </tr>\n",
              "    <tr>\n",
              "      <th>116</th>\n",
              "      <td>4</td>\n",
              "      <td>0</td>\n",
              "      <td>4</td>\n",
              "    </tr>\n",
              "  </tbody>\n",
              "</table>\n",
              "<p>104 rows × 3 columns</p>\n",
              "</div>\n",
              "      <button class=\"colab-df-convert\" onclick=\"convertToInteractive('df-7b9e3c2b-e664-429b-b9dd-3963f453dc76')\"\n",
              "              title=\"Convert this dataframe to an interactive table.\"\n",
              "              style=\"display:none;\">\n",
              "        \n",
              "  <svg xmlns=\"http://www.w3.org/2000/svg\" height=\"24px\"viewBox=\"0 0 24 24\"\n",
              "       width=\"24px\">\n",
              "    <path d=\"M0 0h24v24H0V0z\" fill=\"none\"/>\n",
              "    <path d=\"M18.56 5.44l.94 2.06.94-2.06 2.06-.94-2.06-.94-.94-2.06-.94 2.06-2.06.94zm-11 1L8.5 8.5l.94-2.06 2.06-.94-2.06-.94L8.5 2.5l-.94 2.06-2.06.94zm10 10l.94 2.06.94-2.06 2.06-.94-2.06-.94-.94-2.06-.94 2.06-2.06.94z\"/><path d=\"M17.41 7.96l-1.37-1.37c-.4-.4-.92-.59-1.43-.59-.52 0-1.04.2-1.43.59L10.3 9.45l-7.72 7.72c-.78.78-.78 2.05 0 2.83L4 21.41c.39.39.9.59 1.41.59.51 0 1.02-.2 1.41-.59l7.78-7.78 2.81-2.81c.8-.78.8-2.07 0-2.86zM5.41 20L4 18.59l7.72-7.72 1.47 1.35L5.41 20z\"/>\n",
              "  </svg>\n",
              "      </button>\n",
              "      \n",
              "  <style>\n",
              "    .colab-df-container {\n",
              "      display:flex;\n",
              "      flex-wrap:wrap;\n",
              "      gap: 12px;\n",
              "    }\n",
              "\n",
              "    .colab-df-convert {\n",
              "      background-color: #E8F0FE;\n",
              "      border: none;\n",
              "      border-radius: 50%;\n",
              "      cursor: pointer;\n",
              "      display: none;\n",
              "      fill: #1967D2;\n",
              "      height: 32px;\n",
              "      padding: 0 0 0 0;\n",
              "      width: 32px;\n",
              "    }\n",
              "\n",
              "    .colab-df-convert:hover {\n",
              "      background-color: #E2EBFA;\n",
              "      box-shadow: 0px 1px 2px rgba(60, 64, 67, 0.3), 0px 1px 3px 1px rgba(60, 64, 67, 0.15);\n",
              "      fill: #174EA6;\n",
              "    }\n",
              "\n",
              "    [theme=dark] .colab-df-convert {\n",
              "      background-color: #3B4455;\n",
              "      fill: #D2E3FC;\n",
              "    }\n",
              "\n",
              "    [theme=dark] .colab-df-convert:hover {\n",
              "      background-color: #434B5C;\n",
              "      box-shadow: 0px 1px 3px 1px rgba(0, 0, 0, 0.15);\n",
              "      filter: drop-shadow(0px 1px 2px rgba(0, 0, 0, 0.3));\n",
              "      fill: #FFFFFF;\n",
              "    }\n",
              "  </style>\n",
              "\n",
              "      <script>\n",
              "        const buttonEl =\n",
              "          document.querySelector('#df-7b9e3c2b-e664-429b-b9dd-3963f453dc76 button.colab-df-convert');\n",
              "        buttonEl.style.display =\n",
              "          google.colab.kernel.accessAllowed ? 'block' : 'none';\n",
              "\n",
              "        async function convertToInteractive(key) {\n",
              "          const element = document.querySelector('#df-7b9e3c2b-e664-429b-b9dd-3963f453dc76');\n",
              "          const dataTable =\n",
              "            await google.colab.kernel.invokeFunction('convertToInteractive',\n",
              "                                                     [key], {});\n",
              "          if (!dataTable) return;\n",
              "\n",
              "          const docLinkHtml = 'Like what you see? Visit the ' +\n",
              "            '<a target=\"_blank\" href=https://colab.research.google.com/notebooks/data_table.ipynb>data table notebook</a>'\n",
              "            + ' to learn more about interactive tables.';\n",
              "          element.innerHTML = '';\n",
              "          dataTable['output_type'] = 'display_data';\n",
              "          await google.colab.output.renderOutput(dataTable, element);\n",
              "          const docLink = document.createElement('div');\n",
              "          docLink.innerHTML = docLinkHtml;\n",
              "          element.appendChild(docLink);\n",
              "        }\n",
              "      </script>\n",
              "    </div>\n",
              "  </div>\n",
              "  "
            ]
          },
          "metadata": {},
          "execution_count": 23
        }
      ]
    },
    {
      "cell_type": "code",
      "source": [
        "# Exporting above created dataframe as a CSV file.\n",
        "\n",
        "images_df.to_csv(\"/content/drive/My Drive/Age_Detection/image_summary.csv\", index=True, index_label='age')"
      ],
      "metadata": {
        "id": "PTgv3NHeSYo1"
      },
      "execution_count": 24,
      "outputs": []
    },
    {
      "cell_type": "code",
      "source": [
        "# Plotting the no. of images by ages in a barplot.\n",
        "\n",
        "plt.figure(figsize=(30, 10))\n",
        "\n",
        "ax = sns.barplot(x=images_df.index, y=images_df['facial_age_images'], color='royalblue')\n",
        "\n",
        "ax.tick_params(axis='both', labelsize=12)\n",
        "ax.tick_params(axis='x', labelrotation=45)\n",
        "\n",
        "plt.xlabel(\"Age\", fontsize=16)\n",
        "plt.ylabel(\"No. of Images\", fontsize=16)\n",
        "\n",
        "plt.title(\"Barplot showing No. of images in facial-age dataset by Age\", fontsize=18)\n",
        "\n",
        "# Exporting plot image in PNG format.\n",
        "plt.savefig('/content/drive/My Drive/Age_Detection/plot_images/barplot_facial_age_images.png', bbox_inches='tight');"
      ],
      "metadata": {
        "colab": {
          "base_uri": "https://localhost:8080/",
          "height": 459
        },
        "id": "hFzBUmzwS41u",
        "outputId": "106ff9d6-9c8b-4363-d759-2cb78b52b23f"
      },
      "execution_count": 25,
      "outputs": [
        {
          "output_type": "display_data",
          "data": {
            "text/plain": [
              "<Figure size 2160x720 with 1 Axes>"
            ],
            "image/png": "[encoded data removed]"
          },
          "metadata": {
            "needs_background": "light"
          }
        }
      ]
    },
    {
      "cell_type": "code",
      "source": [
        "# Plotting the no. of images by ages in a barplot.\n",
        "\n",
        "plt.figure(figsize=(30, 10))\n",
        "\n",
        "ax = sns.barplot(x=images_df.index, y=images_df['utkface_images'], color='royalblue')\n",
        "\n",
        "ax.tick_params(axis='both', labelsize=12)\n",
        "ax.tick_params(axis='x', labelrotation=45)\n",
        "\n",
        "plt.xlabel(\"Age\", fontsize=16)\n",
        "plt.ylabel(\"No. of Images\", fontsize=16)\n",
        "\n",
        "plt.title(\"Barplot showing No. of images in UTKFace dataset by Age\", fontsize=18)\n",
        "\n",
        "# Exporting plot image in PNG format.\n",
        "plt.savefig('/content/drive/My Drive/Age_Detection/plot_images/barplot_utkface_images.png', bbox_inches='tight');"
      ],
      "metadata": {
        "colab": {
          "base_uri": "https://localhost:8080/",
          "height": 459
        },
        "id": "9ooevH6pS9Ja",
        "outputId": "fb8b5675-8028-4490-df4c-6d17271390a5"
      },
      "execution_count": 26,
      "outputs": [
        {
          "output_type": "display_data",
          "data": {
            "text/plain": [
              "<Figure size 2160x720 with 1 Axes>"
            ],
            "image/png": "[encoded data removed]"
          },
          "metadata": {
            "needs_background": "light"
          }
        }
      ]
    },
    {
      "cell_type": "code",
      "source": [
        "# Plotting the no. of images by ages in a barplot.\n",
        "\n",
        "plt.figure(figsize=(30, 10))\n",
        "\n",
        "ax = sns.barplot(x=images_df.index, y=images_df['combined_images'], color='royalblue')\n",
        "\n",
        "ax.tick_params(axis='both', labelsize=12)\n",
        "ax.tick_params(axis='x', labelrotation=45)\n",
        "\n",
        "plt.xlabel(\"Age\", fontsize=16)\n",
        "plt.ylabel(\"No. of Images\", fontsize=16)\n",
        "\n",
        "plt.title(\"Barplot showing No. of images in Combined datasets (facial-age & UTKFace datasets) by Age\", fontsize=18)\n",
        "\n",
        "# Exporting plot image in PNG format.\n",
        "plt.savefig('/content/drive/My Drive/Age_Detection/plot_images/barplot_combined_faces_images.png', bbox_inches='tight');"
      ],
      "metadata": {
        "id": "5irBm2akTdtx",
        "outputId": "64a5017f-5f1a-49a8-e64a-ab31f9cc136b",
        "colab": {
          "base_uri": "https://localhost:8080/",
          "height": 459
        }
      },
      "execution_count": 27,
      "outputs": [
        {
          "output_type": "display_data",
          "data": {
            "text/plain": [
              "<Figure size 2160x720 with 1 Axes>"
            ],
            "image/png": "[encoded data removed]"
          },
          "metadata": {
            "needs_background": "light"
          }
        }
      ]
    },
    {
      "cell_type": "markdown",
      "source": [
        "I will now **combine the different age labels into classes of age-ranges** so as to prepare the datasets for age classification modelling. The different possible combinations of age ranges will be generated using a function defined below."
      ],
      "metadata": {
        "id": "6itP2z3LdM3F"
      }
    },
    {
      "cell_type": "code",
      "source": [
        "# Defining a function to split the images in each dataset into n classes (user input).\n",
        "# Function INPUT: Dataset series of no. of images per age index, and n_classes. \n",
        "# Function OUTPUT: Dataset broken up into n_classes with age-ranges, no. of images and proportion balance per class.\n",
        "\n",
        "def split_classes(ser, n_classes):\n",
        "\n",
        "    # Calculating the target number of images per class depending on the total no. of images in the dataset.\n",
        "    n_images = int(sum(ser) / n_classes)\n",
        "\n",
        "    print(f\"Total no. of images in dataset\\t= {sum(ser)}\")\n",
        "    print(f\"No. of classes desired\\t\\t= {n_classes}\")\n",
        "    print(f\"So, target no. of images/class\\t>= {sum(ser)}/{n_classes} = ~{n_images}\")\n",
        "    print()\n",
        "\n",
        "    # Initiating a dataframe to show the breakdown of age-ranges as output.\n",
        "    classes_df = pd.DataFrame(columns=['Age-ranges (classes)', 'No. of images', 'Class balance (%)'])\n",
        "\n",
        "    # Initiating an age index variable to be used to iterate through the ages in the given input series.\n",
        "    age_index = 0\n",
        "\n",
        "    for i in range(n_classes):\n",
        "\n",
        "        # Storing the starting age of the class in a variable age_start.\n",
        "        # Storing the current age being iterated in a variable age_current.\n",
        "        # Keeping track of age_index variable so as not to let it go out of index.\n",
        "        if age_index<=103:\n",
        "            age_start = ser.index[age_index]\n",
        "            age_current = ser.index[age_index]\n",
        "        else:\n",
        "            break\n",
        "\n",
        "        # Initiating a new variable to keep track of no. of images added to current class.\n",
        "        class_images = 0\n",
        "        \n",
        "        # Iterating through the ages in the given input series and adding up the no. of images\n",
        "        # until it exceeds the target number of images per class, using the age_index and age_current variables.\n",
        "        while class_images < n_images:\n",
        "            class_images += ser[age_current]\n",
        "            age_index += 1\n",
        "\n",
        "            # Keeping track of age_index variable so as not to let it go out of index.\n",
        "            if age_index<=103:\n",
        "                age_current = ser.index[age_index]\n",
        "            else:\n",
        "                break\n",
        "\n",
        "        # Storing the ending age of the class in a variable age_end.\n",
        "        # Keeping track of age_index variable so as not to let it go out of index.\n",
        "        if age_index<=104:\n",
        "            age_end = ser.index[age_index-1]\n",
        "        else:\n",
        "            break\n",
        "        \n",
        "        # Adding the above calculated variables into the dataframe for easier printing and analysis.\n",
        "        classes_df.loc[i, 'Age-ranges (classes)'] = str(age_start)+\" - \"+str(age_end)\n",
        "        classes_df.loc[i, 'No. of images'] = class_images\n",
        "        classes_df.loc[i, 'Class balance (%)'] = round((class_images / sum(ser)) * 100, 2)\n",
        "    \n",
        "    # Calculating some basic statistics about no. of images and the class balance.\n",
        "    mean_images = int(round(np.mean(classes_df.loc[:, 'No. of images'])))\n",
        "    mean_balance = round(np.mean(classes_df.loc[:, 'Class balance (%)']), 2)\n",
        "    std_balance = round(np.std(classes_df.loc[:, 'Class balance (%)']), 2)\n",
        "    \n",
        "    print(f\"Mean no. of images/class\\t= ~{mean_images}\")\n",
        "    print(f\"Mean class balance\\t\\t= {mean_balance}%\")\n",
        "    print(f\"Std. of class balance\\t\\t= {std_balance}%\")\n",
        "    print()\n",
        "\n",
        "    # Returning the dataframe with all the classes info.\n",
        "    return classes_df"
      ],
      "metadata": {
        "id": "4WzFnJxpdGSm"
      },
      "execution_count": 1,
      "outputs": []
    },
    {
      "cell_type": "code",
      "source": [
        "# Applying the above function on facial-age dataset to split it into 11 classes.\n",
        "\n",
        "facial_age_classes = split_classes(images_df['facial_age_images'], 11)\n",
        "facial_age_classes"
      ],
      "metadata": {
        "colab": {
          "base_uri": "https://localhost:8080/",
          "height": 506
        },
        "id": "_LAvKoWfdjIU",
        "outputId": "7f4dbb20-5259-4018-e021-bff663a466cd"
      },
      "execution_count": 28,
      "outputs": [
        {
          "output_type": "stream",
          "name": "stdout",
          "text": [
            "Total no. of images in dataset\t= 9778\n",
            "No. of classes desired\t\t= 11\n",
            "So, target no. of images/class\t>= 9778/11 = ~888\n",
            "\n",
            "Mean no. of images/class\t= ~978\n",
            "Mean class balance\t\t= 10.0%\n",
            "Std. of class balance\t\t= 1.13%\n",
            "\n"
          ]
        },
        {
          "output_type": "execute_result",
          "data": {
            "text/plain": [
              "  Age-ranges (classes) No. of images Class balance (%)\n",
              "0                1 - 1          1112             11.37\n",
              "1                2 - 4          1019             10.42\n",
              "2               5 - 10           955              9.77\n",
              "3              11 - 18          1020             10.43\n",
              "4              19 - 26          1154              11.8\n",
              "5              27 - 34           901              9.21\n",
              "6              35 - 45           935              9.56\n",
              "7              46 - 56          1017              10.4\n",
              "8              57 - 70           924              9.45\n",
              "9             71 - 116           741              7.58"
            ],
            "text/html": [
              "\n",
              "  <div id=\"df-ebaec8b6-f645-4ed9-bbf1-7a2575aae52d\">\n",
              "    <div class=\"colab-df-container\">\n",
              "      <div>\n",
              "<style scoped>\n",
              "    .dataframe tbody tr th:only-of-type {\n",
              "        vertical-align: middle;\n",
              "    }\n",
              "\n",
              "    .dataframe tbody tr th {\n",
              "        vertical-align: top;\n",
              "    }\n",
              "\n",
              "    .dataframe thead th {\n",
              "        text-align: right;\n",
              "    }\n",
              "</style>\n",
              "<table border=\"1\" class=\"dataframe\">\n",
              "  <thead>\n",
              "    <tr style=\"text-align: right;\">\n",
              "      <th></th>\n",
              "      <th>Age-ranges (classes)</th>\n",
              "      <th>No. of images</th>\n",
              "      <th>Class balance (%)</th>\n",
              "    </tr>\n",
              "  </thead>\n",
              "  <tbody>\n",
              "    <tr>\n",
              "      <th>0</th>\n",
              "      <td>1 - 1</td>\n",
              "      <td>1112</td>\n",
              "      <td>11.37</td>\n",
              "    </tr>\n",
              "    <tr>\n",
              "      <th>1</th>\n",
              "      <td>2 - 4</td>\n",
              "      <td>1019</td>\n",
              "      <td>10.42</td>\n",
              "    </tr>\n",
              "    <tr>\n",
              "      <th>2</th>\n",
              "      <td>5 - 10</td>\n",
              "      <td>955</td>\n",
              "      <td>9.77</td>\n",
              "    </tr>\n",
              "    <tr>\n",
              "      <th>3</th>\n",
              "      <td>11 - 18</td>\n",
              "      <td>1020</td>\n",
              "      <td>10.43</td>\n",
              "    </tr>\n",
              "    <tr>\n",
              "      <th>4</th>\n",
              "      <td>19 - 26</td>\n",
              "      <td>1154</td>\n",
              "      <td>11.8</td>\n",
              "    </tr>\n",
              "    <tr>\n",
              "      <th>5</th>\n",
              "      <td>27 - 34</td>\n",
              "      <td>901</td>\n",
              "      <td>9.21</td>\n",
              "    </tr>\n",
              "    <tr>\n",
              "      <th>6</th>\n",
              "      <td>35 - 45</td>\n",
              "      <td>935</td>\n",
              "      <td>9.56</td>\n",
              "    </tr>\n",
              "    <tr>\n",
              "      <th>7</th>\n",
              "      <td>46 - 56</td>\n",
              "      <td>1017</td>\n",
              "      <td>10.4</td>\n",
              "    </tr>\n",
              "    <tr>\n",
              "      <th>8</th>\n",
              "      <td>57 - 70</td>\n",
              "      <td>924</td>\n",
              "      <td>9.45</td>\n",
              "    </tr>\n",
              "    <tr>\n",
              "      <th>9</th>\n",
              "      <td>71 - 116</td>\n",
              "      <td>741</td>\n",
              "      <td>7.58</td>\n",
              "    </tr>\n",
              "  </tbody>\n",
              "</table>\n",
              "</div>\n",
              "      <button class=\"colab-df-convert\" onclick=\"convertToInteractive('df-ebaec8b6-f645-4ed9-bbf1-7a2575aae52d')\"\n",
              "              title=\"Convert this dataframe to an interactive table.\"\n",
              "              style=\"display:none;\">\n",
              "        \n",
              "  <svg xmlns=\"http://www.w3.org/2000/svg\" height=\"24px\"viewBox=\"0 0 24 24\"\n",
              "       width=\"24px\">\n",
              "    <path d=\"M0 0h24v24H0V0z\" fill=\"none\"/>\n",
              "    <path d=\"M18.56 5.44l.94 2.06.94-2.06 2.06-.94-2.06-.94-.94-2.06-.94 2.06-2.06.94zm-11 1L8.5 8.5l.94-2.06 2.06-.94-2.06-.94L8.5 2.5l-.94 2.06-2.06.94zm10 10l.94 2.06.94-2.06 2.06-.94-2.06-.94-.94-2.06-.94 2.06-2.06.94z\"/><path d=\"M17.41 7.96l-1.37-1.37c-.4-.4-.92-.59-1.43-.59-.52 0-1.04.2-1.43.59L10.3 9.45l-7.72 7.72c-.78.78-.78 2.05 0 2.83L4 21.41c.39.39.9.59 1.41.59.51 0 1.02-.2 1.41-.59l7.78-7.78 2.81-2.81c.8-.78.8-2.07 0-2.86zM5.41 20L4 18.59l7.72-7.72 1.47 1.35L5.41 20z\"/>\n",
              "  </svg>\n",
              "      </button>\n",
              "      \n",
              "  <style>\n",
              "    .colab-df-container {\n",
              "      display:flex;\n",
              "      flex-wrap:wrap;\n",
              "      gap: 12px;\n",
              "    }\n",
              "\n",
              "    .colab-df-convert {\n",
              "      background-color: #E8F0FE;\n",
              "      border: none;\n",
              "      border-radius: 50%;\n",
              "      cursor: pointer;\n",
              "      display: none;\n",
              "      fill: #1967D2;\n",
              "      height: 32px;\n",
              "      padding: 0 0 0 0;\n",
              "      width: 32px;\n",
              "    }\n",
              "\n",
              "    .colab-df-convert:hover {\n",
              "      background-color: #E2EBFA;\n",
              "      box-shadow: 0px 1px 2px rgba(60, 64, 67, 0.3), 0px 1px 3px 1px rgba(60, 64, 67, 0.15);\n",
              "      fill: #174EA6;\n",
              "    }\n",
              "\n",
              "    [theme=dark] .colab-df-convert {\n",
              "      background-color: #3B4455;\n",
              "      fill: #D2E3FC;\n",
              "    }\n",
              "\n",
              "    [theme=dark] .colab-df-convert:hover {\n",
              "      background-color: #434B5C;\n",
              "      box-shadow: 0px 1px 3px 1px rgba(0, 0, 0, 0.15);\n",
              "      filter: drop-shadow(0px 1px 2px rgba(0, 0, 0, 0.3));\n",
              "      fill: #FFFFFF;\n",
              "    }\n",
              "  </style>\n",
              "\n",
              "      <script>\n",
              "        const buttonEl =\n",
              "          document.querySelector('#df-ebaec8b6-f645-4ed9-bbf1-7a2575aae52d button.colab-df-convert');\n",
              "        buttonEl.style.display =\n",
              "          google.colab.kernel.accessAllowed ? 'block' : 'none';\n",
              "\n",
              "        async function convertToInteractive(key) {\n",
              "          const element = document.querySelector('#df-ebaec8b6-f645-4ed9-bbf1-7a2575aae52d');\n",
              "          const dataTable =\n",
              "            await google.colab.kernel.invokeFunction('convertToInteractive',\n",
              "                                                     [key], {});\n",
              "          if (!dataTable) return;\n",
              "\n",
              "          const docLinkHtml = 'Like what you see? Visit the ' +\n",
              "            '<a target=\"_blank\" href=https://colab.research.google.com/notebooks/data_table.ipynb>data table notebook</a>'\n",
              "            + ' to learn more about interactive tables.';\n",
              "          element.innerHTML = '';\n",
              "          dataTable['output_type'] = 'display_data';\n",
              "          await google.colab.output.renderOutput(dataTable, element);\n",
              "          const docLink = document.createElement('div');\n",
              "          docLink.innerHTML = docLinkHtml;\n",
              "          element.appendChild(docLink);\n",
              "        }\n",
              "      </script>\n",
              "    </div>\n",
              "  </div>\n",
              "  "
            ]
          },
          "metadata": {},
          "execution_count": 28
        }
      ]
    },
    {
      "cell_type": "code",
      "source": [
        "# Plotting the balance of images in different age-ranges in a barplot.\n",
        "\n",
        "plt.figure(figsize=(12, 8))\n",
        "\n",
        "ax = sns.barplot(x=facial_age_classes['Age-ranges (classes)'], y=facial_age_classes['No. of images'], color='royalblue')\n",
        "\n",
        "ax.tick_params(axis='both', labelsize=12)\n",
        "\n",
        "for i in range(10):\n",
        "  plt.text(x=i , y =facial_age_classes['No. of images'].iloc[i]+2 , s=f\"{facial_age_classes['No. of images'].iloc[i]}\" , fontdict=dict(fontsize=16))\n",
        "plt.xlabel(\"Age-ranges (classes)\", fontsize=14)\n",
        "plt.ylabel(\"No. of Images\", fontsize=14)\n",
        "\n",
        "plt.title(\"Barplot showing balance of images in different\\nAge-ranges (classes) for facial-age dataset\", fontsize=18)\n",
        "\n",
        "# Exporting plot image in PNG format.\n",
        "plt.savefig('/content/drive/My Drive/Age_Detection/plot_images/barplot_facial_age_images_in_classes.png', bbox_inches='tight');"
      ],
      "metadata": {
        "colab": {
          "base_uri": "https://localhost:8080/",
          "height": 545
        },
        "id": "hZhUl5GJdq-Z",
        "outputId": "0092a962-7434-472d-d658-f42e39b21b4e"
      },
      "execution_count": 35,
      "outputs": [
        {
          "output_type": "display_data",
          "data": {
            "text/plain": [
              "<Figure size 864x576 with 1 Axes>"
            ],
            "image/png": "[encoded data removed]"
          },
          "metadata": {
            "needs_background": "light"
          }
        }
      ]
    },
    {
      "cell_type": "code",
      "source": [
        "# Applying the above function on UTKFace dataset to split it into 11 classes.\n",
        "\n",
        "utkface_classes = split_classes(images_df['utkface_images'], 11)\n",
        "utkface_classes"
      ],
      "metadata": {
        "colab": {
          "base_uri": "https://localhost:8080/",
          "height": 506
        },
        "id": "d2emJhhJzIrM",
        "outputId": "17ef335b-1ee5-4dbc-fa85-072e51ef2dd3"
      },
      "execution_count": 36,
      "outputs": [
        {
          "output_type": "stream",
          "name": "stdout",
          "text": [
            "Total no. of images in dataset\t= 23708\n",
            "No. of classes desired\t\t= 11\n",
            "So, target no. of images/class\t>= 23708/11 = ~2155\n",
            "\n",
            "Mean no. of images/class\t= ~2371\n",
            "Mean class balance\t\t= 10.0%\n",
            "Std. of class balance\t\t= 1.36%\n",
            "\n"
          ]
        },
        {
          "output_type": "execute_result",
          "data": {
            "text/plain": [
              "  Age-ranges (classes) No. of images Class balance (%)\n",
              "0                1 - 4          2167              9.14\n",
              "1               5 - 18          2328              9.82\n",
              "2              19 - 24          2408             10.16\n",
              "3              25 - 26          2931             12.36\n",
              "4              27 - 30          2827             11.92\n",
              "5              31 - 35          2446             10.32\n",
              "6              36 - 42          2291              9.66\n",
              "7              43 - 53          2313              9.76\n",
              "8              54 - 65          2298              9.69\n",
              "9             66 - 116          1699              7.17"
            ],
            "text/html": [
              "\n",
              "  <div id=\"df-6d33ceb6-f051-4038-ad7f-d67714a70680\">\n",
              "    <div class=\"colab-df-container\">\n",
              "      <div>\n",
              "<style scoped>\n",
              "    .dataframe tbody tr th:only-of-type {\n",
              "        vertical-align: middle;\n",
              "    }\n",
              "\n",
              "    .dataframe tbody tr th {\n",
              "        vertical-align: top;\n",
              "    }\n",
              "\n",
              "    .dataframe thead th {\n",
              "        text-align: right;\n",
              "    }\n",
              "</style>\n",
              "<table border=\"1\" class=\"dataframe\">\n",
              "  <thead>\n",
              "    <tr style=\"text-align: right;\">\n",
              "      <th></th>\n",
              "      <th>Age-ranges (classes)</th>\n",
              "      <th>No. of images</th>\n",
              "      <th>Class balance (%)</th>\n",
              "    </tr>\n",
              "  </thead>\n",
              "  <tbody>\n",
              "    <tr>\n",
              "      <th>0</th>\n",
              "      <td>1 - 4</td>\n",
              "      <td>2167</td>\n",
              "      <td>9.14</td>\n",
              "    </tr>\n",
              "    <tr>\n",
              "      <th>1</th>\n",
              "      <td>5 - 18</td>\n",
              "      <td>2328</td>\n",
              "      <td>9.82</td>\n",
              "    </tr>\n",
              "    <tr>\n",
              "      <th>2</th>\n",
              "      <td>19 - 24</td>\n",
              "      <td>2408</td>\n",
              "      <td>10.16</td>\n",
              "    </tr>\n",
              "    <tr>\n",
              "      <th>3</th>\n",
              "      <td>25 - 26</td>\n",
              "      <td>2931</td>\n",
              "      <td>12.36</td>\n",
              "    </tr>\n",
              "    <tr>\n",
              "      <th>4</th>\n",
              "      <td>27 - 30</td>\n",
              "      <td>2827</td>\n",
              "      <td>11.92</td>\n",
              "    </tr>\n",
              "    <tr>\n",
              "      <th>5</th>\n",
              "      <td>31 - 35</td>\n",
              "      <td>2446</td>\n",
              "      <td>10.32</td>\n",
              "    </tr>\n",
              "    <tr>\n",
              "      <th>6</th>\n",
              "      <td>36 - 42</td>\n",
              "      <td>2291</td>\n",
              "      <td>9.66</td>\n",
              "    </tr>\n",
              "    <tr>\n",
              "      <th>7</th>\n",
              "      <td>43 - 53</td>\n",
              "      <td>2313</td>\n",
              "      <td>9.76</td>\n",
              "    </tr>\n",
              "    <tr>\n",
              "      <th>8</th>\n",
              "      <td>54 - 65</td>\n",
              "      <td>2298</td>\n",
              "      <td>9.69</td>\n",
              "    </tr>\n",
              "    <tr>\n",
              "      <th>9</th>\n",
              "      <td>66 - 116</td>\n",
              "      <td>1699</td>\n",
              "      <td>7.17</td>\n",
              "    </tr>\n",
              "  </tbody>\n",
              "</table>\n",
              "</div>\n",
              "      <button class=\"colab-df-convert\" onclick=\"convertToInteractive('df-6d33ceb6-f051-4038-ad7f-d67714a70680')\"\n",
              "              title=\"Convert this dataframe to an interactive table.\"\n",
              "              style=\"display:none;\">\n",
              "        \n",
              "  <svg xmlns=\"http://www.w3.org/2000/svg\" height=\"24px\"viewBox=\"0 0 24 24\"\n",
              "       width=\"24px\">\n",
              "    <path d=\"M0 0h24v24H0V0z\" fill=\"none\"/>\n",
              "    <path d=\"M18.56 5.44l.94 2.06.94-2.06 2.06-.94-2.06-.94-.94-2.06-.94 2.06-2.06.94zm-11 1L8.5 8.5l.94-2.06 2.06-.94-2.06-.94L8.5 2.5l-.94 2.06-2.06.94zm10 10l.94 2.06.94-2.06 2.06-.94-2.06-.94-.94-2.06-.94 2.06-2.06.94z\"/><path d=\"M17.41 7.96l-1.37-1.37c-.4-.4-.92-.59-1.43-.59-.52 0-1.04.2-1.43.59L10.3 9.45l-7.72 7.72c-.78.78-.78 2.05 0 2.83L4 21.41c.39.39.9.59 1.41.59.51 0 1.02-.2 1.41-.59l7.78-7.78 2.81-2.81c.8-.78.8-2.07 0-2.86zM5.41 20L4 18.59l7.72-7.72 1.47 1.35L5.41 20z\"/>\n",
              "  </svg>\n",
              "      </button>\n",
              "      \n",
              "  <style>\n",
              "    .colab-df-container {\n",
              "      display:flex;\n",
              "      flex-wrap:wrap;\n",
              "      gap: 12px;\n",
              "    }\n",
              "\n",
              "    .colab-df-convert {\n",
              "      background-color: #E8F0FE;\n",
              "      border: none;\n",
              "      border-radius: 50%;\n",
              "      cursor: pointer;\n",
              "      display: none;\n",
              "      fill: #1967D2;\n",
              "      height: 32px;\n",
              "      padding: 0 0 0 0;\n",
              "      width: 32px;\n",
              "    }\n",
              "\n",
              "    .colab-df-convert:hover {\n",
              "      background-color: #E2EBFA;\n",
              "      box-shadow: 0px 1px 2px rgba(60, 64, 67, 0.3), 0px 1px 3px 1px rgba(60, 64, 67, 0.15);\n",
              "      fill: #174EA6;\n",
              "    }\n",
              "\n",
              "    [theme=dark] .colab-df-convert {\n",
              "      background-color: #3B4455;\n",
              "      fill: #D2E3FC;\n",
              "    }\n",
              "\n",
              "    [theme=dark] .colab-df-convert:hover {\n",
              "      background-color: #434B5C;\n",
              "      box-shadow: 0px 1px 3px 1px rgba(0, 0, 0, 0.15);\n",
              "      filter: drop-shadow(0px 1px 2px rgba(0, 0, 0, 0.3));\n",
              "      fill: #FFFFFF;\n",
              "    }\n",
              "  </style>\n",
              "\n",
              "      <script>\n",
              "        const buttonEl =\n",
              "          document.querySelector('#df-6d33ceb6-f051-4038-ad7f-d67714a70680 button.colab-df-convert');\n",
              "        buttonEl.style.display =\n",
              "          google.colab.kernel.accessAllowed ? 'block' : 'none';\n",
              "\n",
              "        async function convertToInteractive(key) {\n",
              "          const element = document.querySelector('#df-6d33ceb6-f051-4038-ad7f-d67714a70680');\n",
              "          const dataTable =\n",
              "            await google.colab.kernel.invokeFunction('convertToInteractive',\n",
              "                                                     [key], {});\n",
              "          if (!dataTable) return;\n",
              "\n",
              "          const docLinkHtml = 'Like what you see? Visit the ' +\n",
              "            '<a target=\"_blank\" href=https://colab.research.google.com/notebooks/data_table.ipynb>data table notebook</a>'\n",
              "            + ' to learn more about interactive tables.';\n",
              "          element.innerHTML = '';\n",
              "          dataTable['output_type'] = 'display_data';\n",
              "          await google.colab.output.renderOutput(dataTable, element);\n",
              "          const docLink = document.createElement('div');\n",
              "          docLink.innerHTML = docLinkHtml;\n",
              "          element.appendChild(docLink);\n",
              "        }\n",
              "      </script>\n",
              "    </div>\n",
              "  </div>\n",
              "  "
            ]
          },
          "metadata": {},
          "execution_count": 36
        }
      ]
    },
    {
      "cell_type": "code",
      "source": [
        "# Plotting the balance of images in different age-ranges in a barplot.\n",
        "\n",
        "plt.figure(figsize=(12, 8))\n",
        "\n",
        "ax = sns.barplot(x=utkface_classes['Age-ranges (classes)'], y=utkface_classes['No. of images'], color='royalblue')\n",
        "\n",
        "ax.tick_params(axis='both', labelsize=12)\n",
        "\n",
        "for i in range(10):\n",
        "  plt.text(x=i , y =utkface_classes['No. of images'].iloc[i]+2 , s=f\"{utkface_classes['No. of images'].iloc[i]}\" , fontdict=dict(fontsize=16))\n",
        "plt.xlabel(\"Age-ranges (classes)\", fontsize=14)\n",
        "plt.ylabel(\"No. of Images\", fontsize=14)\n",
        "\n",
        "plt.title(\"Barplot showing balance of images in different\\nAge-ranges (classes) for UTKFace dataset\", fontsize=18)\n",
        "\n",
        "# Exporting plot image in PNG format.\n",
        "plt.savefig('/content/drive/My Drive/Age_Detection/plot_images/barplot_utkface_images_in_classes.png', bbox_inches='tight');"
      ],
      "metadata": {
        "colab": {
          "base_uri": "https://localhost:8080/",
          "height": 545
        },
        "id": "K4vK1ijyzK95",
        "outputId": "9d2efa20-86ca-4960-bf6b-f419d143b5d9"
      },
      "execution_count": 38,
      "outputs": [
        {
          "output_type": "display_data",
          "data": {
            "text/plain": [
              "<Figure size 864x576 with 1 Axes>"
            ],
            "image/png": "[encoded data removed]"
          },
          "metadata": {
            "needs_background": "light"
          }
        }
      ]
    },
    {
      "cell_type": "code",
      "source": [
        "# Applying the above function on the combined facial-age and UTKFace datasets to split them into 12 classes.\n",
        "\n",
        "combined_classes = split_classes(images_df['combined_images'], 12)\n",
        "combined_classes"
      ],
      "metadata": {
        "colab": {
          "base_uri": "https://localhost:8080/",
          "height": 537
        },
        "id": "_mKzHYXgzb6U",
        "outputId": "8c23fc29-8d6b-4247-cf3f-3a3f4a12e99a"
      },
      "execution_count": 39,
      "outputs": [
        {
          "output_type": "stream",
          "name": "stdout",
          "text": [
            "Total no. of images in dataset\t= 33486\n",
            "No. of classes desired\t\t= 12\n",
            "So, target no. of images/class\t>= 33486/12 = ~2790\n",
            "\n",
            "Mean no. of images/class\t= ~3044\n",
            "Mean class balance\t\t= 9.09%\n",
            "Std. of class balance\t\t= 0.68%\n",
            "\n"
          ]
        },
        {
          "output_type": "execute_result",
          "data": {
            "text/plain": [
              "   Age-ranges (classes) No. of images Class balance (%)\n",
              "0                 1 - 2          3192              9.53\n",
              "1                 3 - 9          2816              8.41\n",
              "2               10 - 20          3136              9.37\n",
              "3               21 - 25          3474             10.37\n",
              "4               26 - 27          3217              9.61\n",
              "5               28 - 31          3063              9.15\n",
              "6               32 - 36          3086              9.22\n",
              "7               37 - 45          3207              9.58\n",
              "8               46 - 54          2802              8.37\n",
              "9               55 - 65          2796              8.35\n",
              "10             66 - 116          2697              8.05"
            ],
            "text/html": [
              "\n",
              "  <div id=\"df-d01508e6-93fe-42f7-a4ae-01f37315b454\">\n",
              "    <div class=\"colab-df-container\">\n",
              "      <div>\n",
              "<style scoped>\n",
              "    .dataframe tbody tr th:only-of-type {\n",
              "        vertical-align: middle;\n",
              "    }\n",
              "\n",
              "    .dataframe tbody tr th {\n",
              "        vertical-align: top;\n",
              "    }\n",
              "\n",
              "    .dataframe thead th {\n",
              "        text-align: right;\n",
              "    }\n",
              "</style>\n",
              "<table border=\"1\" class=\"dataframe\">\n",
              "  <thead>\n",
              "    <tr style=\"text-align: right;\">\n",
              "      <th></th>\n",
              "      <th>Age-ranges (classes)</th>\n",
              "      <th>No. of images</th>\n",
              "      <th>Class balance (%)</th>\n",
              "    </tr>\n",
              "  </thead>\n",
              "  <tbody>\n",
              "    <tr>\n",
              "      <th>0</th>\n",
              "      <td>1 - 2</td>\n",
              "      <td>3192</td>\n",
              "      <td>9.53</td>\n",
              "    </tr>\n",
              "    <tr>\n",
              "      <th>1</th>\n",
              "      <td>3 - 9</td>\n",
              "      <td>2816</td>\n",
              "      <td>8.41</td>\n",
              "    </tr>\n",
              "    <tr>\n",
              "      <th>2</th>\n",
              "      <td>10 - 20</td>\n",
              "      <td>3136</td>\n",
              "      <td>9.37</td>\n",
              "    </tr>\n",
              "    <tr>\n",
              "      <th>3</th>\n",
              "      <td>21 - 25</td>\n",
              "      <td>3474</td>\n",
              "      <td>10.37</td>\n",
              "    </tr>\n",
              "    <tr>\n",
              "      <th>4</th>\n",
              "      <td>26 - 27</td>\n",
              "      <td>3217</td>\n",
              "      <td>9.61</td>\n",
              "    </tr>\n",
              "    <tr>\n",
              "      <th>5</th>\n",
              "      <td>28 - 31</td>\n",
              "      <td>3063</td>\n",
              "      <td>9.15</td>\n",
              "    </tr>\n",
              "    <tr>\n",
              "      <th>6</th>\n",
              "      <td>32 - 36</td>\n",
              "      <td>3086</td>\n",
              "      <td>9.22</td>\n",
              "    </tr>\n",
              "    <tr>\n",
              "      <th>7</th>\n",
              "      <td>37 - 45</td>\n",
              "      <td>3207</td>\n",
              "      <td>9.58</td>\n",
              "    </tr>\n",
              "    <tr>\n",
              "      <th>8</th>\n",
              "      <td>46 - 54</td>\n",
              "      <td>2802</td>\n",
              "      <td>8.37</td>\n",
              "    </tr>\n",
              "    <tr>\n",
              "      <th>9</th>\n",
              "      <td>55 - 65</td>\n",
              "      <td>2796</td>\n",
              "      <td>8.35</td>\n",
              "    </tr>\n",
              "    <tr>\n",
              "      <th>10</th>\n",
              "      <td>66 - 116</td>\n",
              "      <td>2697</td>\n",
              "      <td>8.05</td>\n",
              "    </tr>\n",
              "  </tbody>\n",
              "</table>\n",
              "</div>\n",
              "      <button class=\"colab-df-convert\" onclick=\"convertToInteractive('df-d01508e6-93fe-42f7-a4ae-01f37315b454')\"\n",
              "              title=\"Convert this dataframe to an interactive table.\"\n",
              "              style=\"display:none;\">\n",
              "        \n",
              "  <svg xmlns=\"http://www.w3.org/2000/svg\" height=\"24px\"viewBox=\"0 0 24 24\"\n",
              "       width=\"24px\">\n",
              "    <path d=\"M0 0h24v24H0V0z\" fill=\"none\"/>\n",
              "    <path d=\"M18.56 5.44l.94 2.06.94-2.06 2.06-.94-2.06-.94-.94-2.06-.94 2.06-2.06.94zm-11 1L8.5 8.5l.94-2.06 2.06-.94-2.06-.94L8.5 2.5l-.94 2.06-2.06.94zm10 10l.94 2.06.94-2.06 2.06-.94-2.06-.94-.94-2.06-.94 2.06-2.06.94z\"/><path d=\"M17.41 7.96l-1.37-1.37c-.4-.4-.92-.59-1.43-.59-.52 0-1.04.2-1.43.59L10.3 9.45l-7.72 7.72c-.78.78-.78 2.05 0 2.83L4 21.41c.39.39.9.59 1.41.59.51 0 1.02-.2 1.41-.59l7.78-7.78 2.81-2.81c.8-.78.8-2.07 0-2.86zM5.41 20L4 18.59l7.72-7.72 1.47 1.35L5.41 20z\"/>\n",
              "  </svg>\n",
              "      </button>\n",
              "      \n",
              "  <style>\n",
              "    .colab-df-container {\n",
              "      display:flex;\n",
              "      flex-wrap:wrap;\n",
              "      gap: 12px;\n",
              "    }\n",
              "\n",
              "    .colab-df-convert {\n",
              "      background-color: #E8F0FE;\n",
              "      border: none;\n",
              "      border-radius: 50%;\n",
              "      cursor: pointer;\n",
              "      display: none;\n",
              "      fill: #1967D2;\n",
              "      height: 32px;\n",
              "      padding: 0 0 0 0;\n",
              "      width: 32px;\n",
              "    }\n",
              "\n",
              "    .colab-df-convert:hover {\n",
              "      background-color: #E2EBFA;\n",
              "      box-shadow: 0px 1px 2px rgba(60, 64, 67, 0.3), 0px 1px 3px 1px rgba(60, 64, 67, 0.15);\n",
              "      fill: #174EA6;\n",
              "    }\n",
              "\n",
              "    [theme=dark] .colab-df-convert {\n",
              "      background-color: #3B4455;\n",
              "      fill: #D2E3FC;\n",
              "    }\n",
              "\n",
              "    [theme=dark] .colab-df-convert:hover {\n",
              "      background-color: #434B5C;\n",
              "      box-shadow: 0px 1px 3px 1px rgba(0, 0, 0, 0.15);\n",
              "      filter: drop-shadow(0px 1px 2px rgba(0, 0, 0, 0.3));\n",
              "      fill: #FFFFFF;\n",
              "    }\n",
              "  </style>\n",
              "\n",
              "      <script>\n",
              "        const buttonEl =\n",
              "          document.querySelector('#df-d01508e6-93fe-42f7-a4ae-01f37315b454 button.colab-df-convert');\n",
              "        buttonEl.style.display =\n",
              "          google.colab.kernel.accessAllowed ? 'block' : 'none';\n",
              "\n",
              "        async function convertToInteractive(key) {\n",
              "          const element = document.querySelector('#df-d01508e6-93fe-42f7-a4ae-01f37315b454');\n",
              "          const dataTable =\n",
              "            await google.colab.kernel.invokeFunction('convertToInteractive',\n",
              "                                                     [key], {});\n",
              "          if (!dataTable) return;\n",
              "\n",
              "          const docLinkHtml = 'Like what you see? Visit the ' +\n",
              "            '<a target=\"_blank\" href=https://colab.research.google.com/notebooks/data_table.ipynb>data table notebook</a>'\n",
              "            + ' to learn more about interactive tables.';\n",
              "          element.innerHTML = '';\n",
              "          dataTable['output_type'] = 'display_data';\n",
              "          await google.colab.output.renderOutput(dataTable, element);\n",
              "          const docLink = document.createElement('div');\n",
              "          docLink.innerHTML = docLinkHtml;\n",
              "          element.appendChild(docLink);\n",
              "        }\n",
              "      </script>\n",
              "    </div>\n",
              "  </div>\n",
              "  "
            ]
          },
          "metadata": {},
          "execution_count": 39
        }
      ]
    },
    {
      "cell_type": "code",
      "source": [
        "# Exporting above created dataframe as a CSV file.\n",
        "\n",
        "combined_classes.to_csv(\"/content/drive/My Drive/Age_Detection/combined_faces_classes_summary.csv\", index=True, index_label='Class label')"
      ],
      "metadata": {
        "id": "HQCsALnU07Tn"
      },
      "execution_count": 46,
      "outputs": []
    },
    {
      "cell_type": "code",
      "source": [
        "# Plotting the balance of images in different age-ranges in a barplot.\n",
        "\n",
        "plt.figure(figsize=(12, 8))\n",
        "\n",
        "ax = sns.barplot(x=combined_classes['Age-ranges (classes)'], y=combined_classes['No. of images'], color='royalblue')\n",
        "\n",
        "ax.tick_params(axis='both', labelsize=12)\n",
        "\n",
        "for i in range(11):\n",
        "  plt.text(x=i , y =combined_classes['No. of images'].iloc[i]+2 , s=f\"{combined_classes['No. of images'].iloc[i]}\" , fontdict=dict(fontsize=16))\n",
        "plt.xlabel(\"Age-ranges (classes)\", fontsize=14)\n",
        "plt.ylabel(\"No. of Images\", fontsize=14)\n",
        "\n",
        "plt.title(\"Barplot showing balance of images in different\\nAge-ranges (classes) for Combined dataset (facial-age & UTKFace datasets)\", fontsize=18)\n",
        "\n",
        "# Exporting plot image in PNG format.\n",
        "plt.savefig('/content/drive/My Drive/Age_Detection/plot_images/barplot_combined_faces_images_in_classes.png', bbox_inches='tight');"
      ],
      "metadata": {
        "colab": {
          "base_uri": "https://localhost:8080/",
          "height": 545
        },
        "id": "GxiHXZGGzeM2",
        "outputId": "862d3eb5-d04d-4baf-a56b-708e2cbf1255"
      },
      "execution_count": 42,
      "outputs": [
        {
          "output_type": "display_data",
          "data": {
            "text/plain": [
              "<Figure size 864x576 with 1 Axes>"
            ],
            "image/png": "[encoded data removed]"
          },
          "metadata": {
            "needs_background": "light"
          }
        }
      ]
    },
    {
      "cell_type": "markdown",
      "source": [
        "### Dataset Preperation"
      ],
      "metadata": {
        "id": "QFxAUdWA5hJN"
      }
    },
    {
      "cell_type": "markdown",
      "source": [
        "In this section, I will **merge the *facial-age* and *UTKFace* datasets into one *combined_faces* dataset**.\n",
        "\n",
        "The PNG images from the *facial-age* dataset will also be **converted to JPG** format before merging. "
      ],
      "metadata": {
        "id": "Q70bLp9B5t65"
      }
    },
    {
      "cell_type": "code",
      "source": [
        "os.mkdir(\"combined_faces\")\n",
        "\n",
        "progress_counter = 0\n",
        "age_file_counter = [1] * 117\n",
        "\n",
        "print(\"Merging images from facial-age dataset into combined_faces.\\n\")\n",
        "\n",
        "for age in facial_age_folders:\n",
        "    age_path = os.path.join(facial_age_path, age)\n",
        "\n",
        "    img_files = os.listdir(age_path)\n",
        "\n",
        "    for img in img_files:\n",
        "\n",
        "        img_src = os.path.join(age_path, img)\n",
        "\n",
        "        new_filename = str(int(age)) + \"_\" + str(age_file_counter[int(age)]) + \".jpg\"\n",
        "        age_file_counter[int(age)] += 1\n",
        "\n",
        "        img_dest = os.path.join(\"/content/combined_faces\", new_filename)\n",
        "\n",
        "        # Converting the .PNG images to .JPG so as to maintain consistency with of filetype throughout the combined datasets.\n",
        "        png_image = cv2.imread(img_src)\n",
        "        cv2.imwrite(img_dest, png_image, [int(cv2.IMWRITE_JPEG_QUALITY), 100])\n",
        "\n",
        "        progress_counter += 1\n",
        "\n",
        "        if progress_counter % 1000 == 0:\n",
        "            print(f\"Images copied to combined_faces folder: {progress_counter} of 33486\")\n",
        "\n",
        "print(\"\\nMerging images from UTKFace dataset into combined_faces.\\n\")\n",
        "\n",
        "for img in utkface_image_names:\n",
        "\n",
        "    file_type = img.split(\".\")[-1]\n",
        "    age = img.split(\"_\")[0]\n",
        "\n",
        "    img_src = os.path.join(utkface_path, img)\n",
        "\n",
        "    new_filename = age + \"_\" + str(age_file_counter[int(age)]) + \".\" + file_type\n",
        "    age_file_counter[int(age)] += 1\n",
        "\n",
        "    img_dest = os.path.join(\"/content/combined_faces\", new_filename)\n",
        "\n",
        "    shutil.copy(img_src, img_dest);\n",
        "    progress_counter += 1\n",
        "\n",
        "    if progress_counter % 1000 == 0:\n",
        "        print(f\"Images copied to combined_faces folder: {progress_counter} of 33486\")\n",
        "\n",
        "print(\"\\nDone merging images from both datasets into combined_faces.\")"
      ],
      "metadata": {
        "colab": {
          "base_uri": "https://localhost:8080/"
        },
        "id": "SYCoI1705mFk",
        "outputId": "a8647039-3d5a-43d8-cf39-c974be8856b0"
      },
      "execution_count": 43,
      "outputs": [
        {
          "output_type": "stream",
          "name": "stdout",
          "text": [
            "Merging images from facial-age dataset into combined_faces.\n",
            "\n",
            "Images copied to combined_faces folder: 1000 of 33486\n",
            "Images copied to combined_faces folder: 2000 of 33486\n",
            "Images copied to combined_faces folder: 3000 of 33486\n",
            "Images copied to combined_faces folder: 4000 of 33486\n",
            "Images copied to combined_faces folder: 5000 of 33486\n",
            "Images copied to combined_faces folder: 6000 of 33486\n",
            "Images copied to combined_faces folder: 7000 of 33486\n",
            "Images copied to combined_faces folder: 8000 of 33486\n",
            "Images copied to combined_faces folder: 9000 of 33486\n",
            "\n",
            "Merging images from UTKFace dataset into combined_faces.\n",
            "\n",
            "Images copied to combined_faces folder: 10000 of 33486\n",
            "Images copied to combined_faces folder: 11000 of 33486\n",
            "Images copied to combined_faces folder: 12000 of 33486\n",
            "Images copied to combined_faces folder: 13000 of 33486\n",
            "Images copied to combined_faces folder: 14000 of 33486\n",
            "Images copied to combined_faces folder: 15000 of 33486\n",
            "Images copied to combined_faces folder: 16000 of 33486\n",
            "Images copied to combined_faces folder: 17000 of 33486\n",
            "Images copied to combined_faces folder: 18000 of 33486\n",
            "Images copied to combined_faces folder: 19000 of 33486\n",
            "Images copied to combined_faces folder: 20000 of 33486\n",
            "Images copied to combined_faces folder: 21000 of 33486\n",
            "Images copied to combined_faces folder: 22000 of 33486\n",
            "Images copied to combined_faces folder: 23000 of 33486\n",
            "Images copied to combined_faces folder: 24000 of 33486\n",
            "Images copied to combined_faces folder: 25000 of 33486\n",
            "Images copied to combined_faces folder: 26000 of 33486\n",
            "Images copied to combined_faces folder: 27000 of 33486\n",
            "Images copied to combined_faces folder: 28000 of 33486\n",
            "Images copied to combined_faces folder: 29000 of 33486\n",
            "Images copied to combined_faces folder: 30000 of 33486\n",
            "Images copied to combined_faces folder: 31000 of 33486\n",
            "Images copied to combined_faces folder: 32000 of 33486\n",
            "Images copied to combined_faces folder: 33000 of 33486\n",
            "\n",
            "Done merging images from both datasets into combined_faces.\n"
          ]
        }
      ]
    },
    {
      "cell_type": "code",
      "source": [
        "# Defining a function to get all paths of files before zipping combined_faces folder.\n",
        "\n",
        "def get_all_file_paths(path):\n",
        "\n",
        "    file_paths = []\n",
        "\n",
        "    # Crawling through each directory and subdirectories at the given path.\n",
        "    for root, dirs, files in os.walk(path):\n",
        "        for filename in files:\n",
        "            filepath = os.path.join(root, filename)\n",
        "            file_paths.append(filepath)\n",
        "\n",
        "    # Returning all file paths.\n",
        "    return file_paths\n",
        "\n",
        "# Calling above defined function to get file paths of all images before zipping the folder.\n",
        "file_paths = get_all_file_paths(\"/content/combined_faces\")"
      ],
      "metadata": {
        "id": "IqnnsyRZ6jrT"
      },
      "execution_count": 44,
      "outputs": []
    },
    {
      "cell_type": "code",
      "source": [
        "# Zipping the combined_faces dataset folder.\n",
        "\n",
        "combined_faces_zip_path = \"/content/drive/My Drive/Age_Detection/combined_faces.zip\"\n",
        "\n",
        "with ZipFile(combined_faces_zip_path, 'w') as myzip:\n",
        "    for file in file_paths:\n",
        "        myzip.write(file)\n",
        "    print('Done zipping combined_faces!')"
      ],
      "metadata": {
        "colab": {
          "base_uri": "https://localhost:8080/"
        },
        "id": "B7uk6X9r6mLg",
        "outputId": "5d8469dd-5542-4afb-c3c8-b6462e0fcf1a"
      },
      "execution_count": 45,
      "outputs": [
        {
          "output_type": "stream",
          "name": "stdout",
          "text": [
            "Done zipping combined_faces!\n"
          ]
        }
      ]
    },
    {
      "cell_type": "code",
      "source": [
        ""
      ],
      "metadata": {
        "id": "KRUOs0DJ6vVb"
      },
      "execution_count": null,
      "outputs": []
    }
  ]
}