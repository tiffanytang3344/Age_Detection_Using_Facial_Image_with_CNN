{
  "nbformat": 4,
  "nbformat_minor": 0,
  "metadata": {
    "colab": {
      "name": "3.deep-learning-CNN-modeling.ipynb",
      "provenance": [],
      "collapsed_sections": [],
      "mount_file_id": "1BxuvIGW4lPQjzOXutzjgjUMUbwh94DOi",
      "authorship_tag": "ABX9TyOd7f4dMKcZLHGkOf8WZWyz",
      "include_colab_link": true
    },
    "kernelspec": {
      "name": "python3",
      "display_name": "Python 3"
    },
    "language_info": {
      "name": "python"
    },
    "accelerator": "GPU"
  },
  "cells": [
    {
      "cell_type": "markdown",
      "metadata": {
        "id": "view-in-github",
        "colab_type": "text"
      },
      "source": [
        "<a href=\"https://colab.research.google.com/github/tiffanytang34/Age_Detection_Using_Facial_Image_with_CNN/blob/main/3_deep_learning_CNN_modeling.ipynb\" target=\"_parent\"><img src=\"https://colab.research.google.com/assets/colab-badge.svg\" alt=\"Open In Colab\"/></a>"
      ]
    },
    {
      "cell_type": "code",
      "source": [
        "from google.colab import drive\n",
        "drive.mount('/content/drive')"
      ],
      "metadata": {
        "colab": {
          "base_uri": "https://localhost:8080/"
        },
        "id": "vLPqTfxu7v1W",
        "outputId": "8b9df87f-4a44-4213-842e-caead0f64502"
      },
      "execution_count": 2,
      "outputs": [
        {
          "output_type": "stream",
          "name": "stdout",
          "text": [
            "Drive already mounted at /content/drive; to attempt to forcibly remount, call drive.mount(\"/content/drive\", force_remount=True).\n"
          ]
        }
      ]
    },
    {
      "cell_type": "code",
      "source": [
        "# Imports\n",
        "\n",
        "import pandas as pd\n",
        "import numpy as np\n",
        "import matplotlib.pyplot as plt\n",
        "\n",
        "import cv2\n",
        "import os\n",
        "from zipfile import ZipFile\n",
        "import time\n",
        "from datetime import datetime\n",
        "import itertools\n",
        "\n",
        "from sklearn.model_selection import train_test_split\n",
        "from sklearn.metrics import confusion_matrix\n",
        "\n",
        "import tensorflow as tf\n",
        "from tensorflow.keras.models import Sequential\n",
        "from tensorflow.keras.layers import Dense\n",
        "from tensorflow.keras.layers import Conv2D, MaxPooling2D, AveragePooling2D, GlobalAveragePooling2D\n",
        "from tensorflow.keras import utils\n",
        "from tensorflow.keras.callbacks import EarlyStopping, TensorBoard\n",
        "\n",
        "# Setting random seeds to reduce the amount of randomness in the neural net weights and results.\n",
        "# The results may still not be exactly reproducible.\n",
        "np.random.seed(42)\n",
        "tf.random.set_seed(42)"
      ],
      "metadata": {
        "id": "L7A23XQcY0BB"
      },
      "execution_count": 3,
      "outputs": []
    },
    {
      "cell_type": "code",
      "source": [
        "# Checking the installed version of TensorFlow.\n",
        "# The code in this notebook was written using TensorFlow version 2.8.0.\n",
        "\n",
        "tf.__version__"
      ],
      "metadata": {
        "colab": {
          "base_uri": "https://localhost:8080/",
          "height": 35
        },
        "id": "IiUgVLpaRf5q",
        "outputId": "dbde1804-bb68-4ec4-abfe-74e1078683a0"
      },
      "execution_count": 4,
      "outputs": [
        {
          "output_type": "execute_result",
          "data": {
            "text/plain": [
              "'2.8.0'"
            ],
            "application/vnd.google.colaboratory.intrinsic+json": {
              "type": "string"
            }
          },
          "metadata": {},
          "execution_count": 4
        }
      ]
    },
    {
      "cell_type": "markdown",
      "source": [
        "**Ensure that the Runtime Type for this notebook is set to GPU**.\n",
        "\n",
        "Run the code below to check for GPU. If a GPU device is not found, change the runtime type under *Runtime* &#10141; *Change runtime type* &#10141; *Hardware accelerator* &#10141; *GPU* and run the notebook from the beginning again."
      ],
      "metadata": {
        "id": "EbMK6vb7RmV5"
      }
    },
    {
      "cell_type": "code",
      "source": [
        "# Testing to ensure GPU is being utilized.\n",
        "\n",
        "device_name = tf.test.gpu_device_name()\n",
        "if device_name != '/device:GPU:0':\n",
        "    raise SystemError('GPU device not found')\n",
        "print('Found GPU at: {}'.format(device_name))"
      ],
      "metadata": {
        "colab": {
          "base_uri": "https://localhost:8080/"
        },
        "id": "GsKCc7m8Rm5u",
        "outputId": "bc8e97c1-92d9-4285-e377-f1b30212bf72"
      },
      "execution_count": 5,
      "outputs": [
        {
          "output_type": "stream",
          "name": "stdout",
          "text": [
            "Found GPU at: /device:GPU:0\n"
          ]
        }
      ]
    },
    {
      "cell_type": "markdown",
      "source": [
        "## Deep Learning: Data Importing"
      ],
      "metadata": {
        "id": "J9Cni0tdTmat"
      }
    },
    {
      "cell_type": "code",
      "source": [
        "# Unzipping the dataset file combined_faces.zip\n",
        "\n",
        "combined_faces_zip_path = \"/content/drive/My Drive/Age_Detection/combined_faces.zip\"\n",
        "\n",
        "with ZipFile(combined_faces_zip_path, 'r') as myzip:\n",
        "    myzip.extractall()\n",
        "    print('Done unzipping combined_faces.zip')"
      ],
      "metadata": {
        "colab": {
          "base_uri": "https://localhost:8080/"
        },
        "id": "MPLseP2oRomM",
        "outputId": "74e2d75c-6e0b-4110-d006-0e3f80fa8765"
      },
      "execution_count": 6,
      "outputs": [
        {
          "output_type": "stream",
          "name": "stdout",
          "text": [
            "Done unzipping combined_faces.zip\n"
          ]
        }
      ]
    },
    {
      "cell_type": "code",
      "source": [
        "# Importing the table showing the breakdown of age-ranges into classes.\n",
        "\n",
        "combined_classes = pd.read_csv(\"/content/drive/My Drive/Age_Detection/combined_faces_classes_summary.csv\")\n",
        "combined_classes"
      ],
      "metadata": {
        "colab": {
          "base_uri": "https://localhost:8080/",
          "height": 394
        },
        "id": "5kNEE6mTTqgR",
        "outputId": "795ac7a6-5892-4a1e-ac32-bf1607edb476"
      },
      "execution_count": 7,
      "outputs": [
        {
          "output_type": "execute_result",
          "data": {
            "text/plain": [
              "    Class label Age-ranges (classes)  No. of images  Class balance (%)\n",
              "0             0                1 - 2           3192               9.53\n",
              "1             1                3 - 9           2816               8.41\n",
              "2             2              10 - 20           3136               9.37\n",
              "3             3              21 - 25           3474              10.37\n",
              "4             4              26 - 27           3217               9.61\n",
              "5             5              28 - 31           3063               9.15\n",
              "6             6              32 - 36           3086               9.22\n",
              "7             7              37 - 45           3207               9.58\n",
              "8             8              46 - 54           2802               8.37\n",
              "9             9              55 - 65           2796               8.35\n",
              "10           10             66 - 116           2697               8.05"
            ],
            "text/html": [
              "\n",
              "  <div id=\"df-33c9ad65-26f7-4acd-9531-072ecb5904c7\">\n",
              "    <div class=\"colab-df-container\">\n",
              "      <div>\n",
              "<style scoped>\n",
              "    .dataframe tbody tr th:only-of-type {\n",
              "        vertical-align: middle;\n",
              "    }\n",
              "\n",
              "    .dataframe tbody tr th {\n",
              "        vertical-align: top;\n",
              "    }\n",
              "\n",
              "    .dataframe thead th {\n",
              "        text-align: right;\n",
              "    }\n",
              "</style>\n",
              "<table border=\"1\" class=\"dataframe\">\n",
              "  <thead>\n",
              "    <tr style=\"text-align: right;\">\n",
              "      <th></th>\n",
              "      <th>Class label</th>\n",
              "      <th>Age-ranges (classes)</th>\n",
              "      <th>No. of images</th>\n",
              "      <th>Class balance (%)</th>\n",
              "    </tr>\n",
              "  </thead>\n",
              "  <tbody>\n",
              "    <tr>\n",
              "      <th>0</th>\n",
              "      <td>0</td>\n",
              "      <td>1 - 2</td>\n",
              "      <td>3192</td>\n",
              "      <td>9.53</td>\n",
              "    </tr>\n",
              "    <tr>\n",
              "      <th>1</th>\n",
              "      <td>1</td>\n",
              "      <td>3 - 9</td>\n",
              "      <td>2816</td>\n",
              "      <td>8.41</td>\n",
              "    </tr>\n",
              "    <tr>\n",
              "      <th>2</th>\n",
              "      <td>2</td>\n",
              "      <td>10 - 20</td>\n",
              "      <td>3136</td>\n",
              "      <td>9.37</td>\n",
              "    </tr>\n",
              "    <tr>\n",
              "      <th>3</th>\n",
              "      <td>3</td>\n",
              "      <td>21 - 25</td>\n",
              "      <td>3474</td>\n",
              "      <td>10.37</td>\n",
              "    </tr>\n",
              "    <tr>\n",
              "      <th>4</th>\n",
              "      <td>4</td>\n",
              "      <td>26 - 27</td>\n",
              "      <td>3217</td>\n",
              "      <td>9.61</td>\n",
              "    </tr>\n",
              "    <tr>\n",
              "      <th>5</th>\n",
              "      <td>5</td>\n",
              "      <td>28 - 31</td>\n",
              "      <td>3063</td>\n",
              "      <td>9.15</td>\n",
              "    </tr>\n",
              "    <tr>\n",
              "      <th>6</th>\n",
              "      <td>6</td>\n",
              "      <td>32 - 36</td>\n",
              "      <td>3086</td>\n",
              "      <td>9.22</td>\n",
              "    </tr>\n",
              "    <tr>\n",
              "      <th>7</th>\n",
              "      <td>7</td>\n",
              "      <td>37 - 45</td>\n",
              "      <td>3207</td>\n",
              "      <td>9.58</td>\n",
              "    </tr>\n",
              "    <tr>\n",
              "      <th>8</th>\n",
              "      <td>8</td>\n",
              "      <td>46 - 54</td>\n",
              "      <td>2802</td>\n",
              "      <td>8.37</td>\n",
              "    </tr>\n",
              "    <tr>\n",
              "      <th>9</th>\n",
              "      <td>9</td>\n",
              "      <td>55 - 65</td>\n",
              "      <td>2796</td>\n",
              "      <td>8.35</td>\n",
              "    </tr>\n",
              "    <tr>\n",
              "      <th>10</th>\n",
              "      <td>10</td>\n",
              "      <td>66 - 116</td>\n",
              "      <td>2697</td>\n",
              "      <td>8.05</td>\n",
              "    </tr>\n",
              "  </tbody>\n",
              "</table>\n",
              "</div>\n",
              "      <button class=\"colab-df-convert\" onclick=\"convertToInteractive('df-33c9ad65-26f7-4acd-9531-072ecb5904c7')\"\n",
              "              title=\"Convert this dataframe to an interactive table.\"\n",
              "              style=\"display:none;\">\n",
              "        \n",
              "  <svg xmlns=\"http://www.w3.org/2000/svg\" height=\"24px\"viewBox=\"0 0 24 24\"\n",
              "       width=\"24px\">\n",
              "    <path d=\"M0 0h24v24H0V0z\" fill=\"none\"/>\n",
              "    <path d=\"M18.56 5.44l.94 2.06.94-2.06 2.06-.94-2.06-.94-.94-2.06-.94 2.06-2.06.94zm-11 1L8.5 8.5l.94-2.06 2.06-.94-2.06-.94L8.5 2.5l-.94 2.06-2.06.94zm10 10l.94 2.06.94-2.06 2.06-.94-2.06-.94-.94-2.06-.94 2.06-2.06.94z\"/><path d=\"M17.41 7.96l-1.37-1.37c-.4-.4-.92-.59-1.43-.59-.52 0-1.04.2-1.43.59L10.3 9.45l-7.72 7.72c-.78.78-.78 2.05 0 2.83L4 21.41c.39.39.9.59 1.41.59.51 0 1.02-.2 1.41-.59l7.78-7.78 2.81-2.81c.8-.78.8-2.07 0-2.86zM5.41 20L4 18.59l7.72-7.72 1.47 1.35L5.41 20z\"/>\n",
              "  </svg>\n",
              "      </button>\n",
              "      \n",
              "  <style>\n",
              "    .colab-df-container {\n",
              "      display:flex;\n",
              "      flex-wrap:wrap;\n",
              "      gap: 12px;\n",
              "    }\n",
              "\n",
              "    .colab-df-convert {\n",
              "      background-color: #E8F0FE;\n",
              "      border: none;\n",
              "      border-radius: 50%;\n",
              "      cursor: pointer;\n",
              "      display: none;\n",
              "      fill: #1967D2;\n",
              "      height: 32px;\n",
              "      padding: 0 0 0 0;\n",
              "      width: 32px;\n",
              "    }\n",
              "\n",
              "    .colab-df-convert:hover {\n",
              "      background-color: #E2EBFA;\n",
              "      box-shadow: 0px 1px 2px rgba(60, 64, 67, 0.3), 0px 1px 3px 1px rgba(60, 64, 67, 0.15);\n",
              "      fill: #174EA6;\n",
              "    }\n",
              "\n",
              "    [theme=dark] .colab-df-convert {\n",
              "      background-color: #3B4455;\n",
              "      fill: #D2E3FC;\n",
              "    }\n",
              "\n",
              "    [theme=dark] .colab-df-convert:hover {\n",
              "      background-color: #434B5C;\n",
              "      box-shadow: 0px 1px 3px 1px rgba(0, 0, 0, 0.15);\n",
              "      filter: drop-shadow(0px 1px 2px rgba(0, 0, 0, 0.3));\n",
              "      fill: #FFFFFF;\n",
              "    }\n",
              "  </style>\n",
              "\n",
              "      <script>\n",
              "        const buttonEl =\n",
              "          document.querySelector('#df-33c9ad65-26f7-4acd-9531-072ecb5904c7 button.colab-df-convert');\n",
              "        buttonEl.style.display =\n",
              "          google.colab.kernel.accessAllowed ? 'block' : 'none';\n",
              "\n",
              "        async function convertToInteractive(key) {\n",
              "          const element = document.querySelector('#df-33c9ad65-26f7-4acd-9531-072ecb5904c7');\n",
              "          const dataTable =\n",
              "            await google.colab.kernel.invokeFunction('convertToInteractive',\n",
              "                                                     [key], {});\n",
              "          if (!dataTable) return;\n",
              "\n",
              "          const docLinkHtml = 'Like what you see? Visit the ' +\n",
              "            '<a target=\"_blank\" href=https://colab.research.google.com/notebooks/data_table.ipynb>data table notebook</a>'\n",
              "            + ' to learn more about interactive tables.';\n",
              "          element.innerHTML = '';\n",
              "          dataTable['output_type'] = 'display_data';\n",
              "          await google.colab.output.renderOutput(dataTable, element);\n",
              "          const docLink = document.createElement('div');\n",
              "          docLink.innerHTML = docLinkHtml;\n",
              "          element.appendChild(docLink);\n",
              "        }\n",
              "      </script>\n",
              "    </div>\n",
              "  </div>\n",
              "  "
            ]
          },
          "metadata": {},
          "execution_count": 7
        }
      ]
    },
    {
      "cell_type": "code",
      "source": [
        "# Importing the training and testing datasets to create tensors of images using the filename paths.\n",
        "\n",
        "train_df = pd.read_csv(\"/content/drive/My Drive/Age_Detection/images_filenames_labels_train.csv\")\n",
        "test_df = pd.read_csv(\"/content/drive/My Drive/Age_Detection/images_filenames_labels_test.csv\")"
      ],
      "metadata": {
        "id": "2w9E5nkVTvko"
      },
      "execution_count": 8,
      "outputs": []
    },
    {
      "cell_type": "code",
      "source": [
        "train_df.head()"
      ],
      "metadata": {
        "colab": {
          "base_uri": "https://localhost:8080/",
          "height": 206
        },
        "id": "TSRRbYP4T_OW",
        "outputId": "8ab603e9-9893-4fe6-8bb5-7401bee10c68"
      },
      "execution_count": 9,
      "outputs": [
        {
          "output_type": "execute_result",
          "data": {
            "text/plain": [
              "                                     filename  age  target\n",
              "0   /content/content/combined_faces/17_21.jpg   17       2\n",
              "1   /content/content/combined_faces/9_285.jpg    9       1\n",
              "2   /content/content/combined_faces/3_306.jpg    3       1\n",
              "3  /content/content/combined_faces/40_314.jpg   40       7\n",
              "4  /content/content/combined_faces/21_178.jpg   21       3"
            ],
            "text/html": [
              "\n",
              "  <div id=\"df-2e9a2a8b-d6ec-43c1-aca6-01e4a383d72e\">\n",
              "    <div class=\"colab-df-container\">\n",
              "      <div>\n",
              "<style scoped>\n",
              "    .dataframe tbody tr th:only-of-type {\n",
              "        vertical-align: middle;\n",
              "    }\n",
              "\n",
              "    .dataframe tbody tr th {\n",
              "        vertical-align: top;\n",
              "    }\n",
              "\n",
              "    .dataframe thead th {\n",
              "        text-align: right;\n",
              "    }\n",
              "</style>\n",
              "<table border=\"1\" class=\"dataframe\">\n",
              "  <thead>\n",
              "    <tr style=\"text-align: right;\">\n",
              "      <th></th>\n",
              "      <th>filename</th>\n",
              "      <th>age</th>\n",
              "      <th>target</th>\n",
              "    </tr>\n",
              "  </thead>\n",
              "  <tbody>\n",
              "    <tr>\n",
              "      <th>0</th>\n",
              "      <td>/content/content/combined_faces/17_21.jpg</td>\n",
              "      <td>17</td>\n",
              "      <td>2</td>\n",
              "    </tr>\n",
              "    <tr>\n",
              "      <th>1</th>\n",
              "      <td>/content/content/combined_faces/9_285.jpg</td>\n",
              "      <td>9</td>\n",
              "      <td>1</td>\n",
              "    </tr>\n",
              "    <tr>\n",
              "      <th>2</th>\n",
              "      <td>/content/content/combined_faces/3_306.jpg</td>\n",
              "      <td>3</td>\n",
              "      <td>1</td>\n",
              "    </tr>\n",
              "    <tr>\n",
              "      <th>3</th>\n",
              "      <td>/content/content/combined_faces/40_314.jpg</td>\n",
              "      <td>40</td>\n",
              "      <td>7</td>\n",
              "    </tr>\n",
              "    <tr>\n",
              "      <th>4</th>\n",
              "      <td>/content/content/combined_faces/21_178.jpg</td>\n",
              "      <td>21</td>\n",
              "      <td>3</td>\n",
              "    </tr>\n",
              "  </tbody>\n",
              "</table>\n",
              "</div>\n",
              "      <button class=\"colab-df-convert\" onclick=\"convertToInteractive('df-2e9a2a8b-d6ec-43c1-aca6-01e4a383d72e')\"\n",
              "              title=\"Convert this dataframe to an interactive table.\"\n",
              "              style=\"display:none;\">\n",
              "        \n",
              "  <svg xmlns=\"http://www.w3.org/2000/svg\" height=\"24px\"viewBox=\"0 0 24 24\"\n",
              "       width=\"24px\">\n",
              "    <path d=\"M0 0h24v24H0V0z\" fill=\"none\"/>\n",
              "    <path d=\"M18.56 5.44l.94 2.06.94-2.06 2.06-.94-2.06-.94-.94-2.06-.94 2.06-2.06.94zm-11 1L8.5 8.5l.94-2.06 2.06-.94-2.06-.94L8.5 2.5l-.94 2.06-2.06.94zm10 10l.94 2.06.94-2.06 2.06-.94-2.06-.94-.94-2.06-.94 2.06-2.06.94z\"/><path d=\"M17.41 7.96l-1.37-1.37c-.4-.4-.92-.59-1.43-.59-.52 0-1.04.2-1.43.59L10.3 9.45l-7.72 7.72c-.78.78-.78 2.05 0 2.83L4 21.41c.39.39.9.59 1.41.59.51 0 1.02-.2 1.41-.59l7.78-7.78 2.81-2.81c.8-.78.8-2.07 0-2.86zM5.41 20L4 18.59l7.72-7.72 1.47 1.35L5.41 20z\"/>\n",
              "  </svg>\n",
              "      </button>\n",
              "      \n",
              "  <style>\n",
              "    .colab-df-container {\n",
              "      display:flex;\n",
              "      flex-wrap:wrap;\n",
              "      gap: 12px;\n",
              "    }\n",
              "\n",
              "    .colab-df-convert {\n",
              "      background-color: #E8F0FE;\n",
              "      border: none;\n",
              "      border-radius: 50%;\n",
              "      cursor: pointer;\n",
              "      display: none;\n",
              "      fill: #1967D2;\n",
              "      height: 32px;\n",
              "      padding: 0 0 0 0;\n",
              "      width: 32px;\n",
              "    }\n",
              "\n",
              "    .colab-df-convert:hover {\n",
              "      background-color: #E2EBFA;\n",
              "      box-shadow: 0px 1px 2px rgba(60, 64, 67, 0.3), 0px 1px 3px 1px rgba(60, 64, 67, 0.15);\n",
              "      fill: #174EA6;\n",
              "    }\n",
              "\n",
              "    [theme=dark] .colab-df-convert {\n",
              "      background-color: #3B4455;\n",
              "      fill: #D2E3FC;\n",
              "    }\n",
              "\n",
              "    [theme=dark] .colab-df-convert:hover {\n",
              "      background-color: #434B5C;\n",
              "      box-shadow: 0px 1px 3px 1px rgba(0, 0, 0, 0.15);\n",
              "      filter: drop-shadow(0px 1px 2px rgba(0, 0, 0, 0.3));\n",
              "      fill: #FFFFFF;\n",
              "    }\n",
              "  </style>\n",
              "\n",
              "      <script>\n",
              "        const buttonEl =\n",
              "          document.querySelector('#df-2e9a2a8b-d6ec-43c1-aca6-01e4a383d72e button.colab-df-convert');\n",
              "        buttonEl.style.display =\n",
              "          google.colab.kernel.accessAllowed ? 'block' : 'none';\n",
              "\n",
              "        async function convertToInteractive(key) {\n",
              "          const element = document.querySelector('#df-2e9a2a8b-d6ec-43c1-aca6-01e4a383d72e');\n",
              "          const dataTable =\n",
              "            await google.colab.kernel.invokeFunction('convertToInteractive',\n",
              "                                                     [key], {});\n",
              "          if (!dataTable) return;\n",
              "\n",
              "          const docLinkHtml = 'Like what you see? Visit the ' +\n",
              "            '<a target=\"_blank\" href=https://colab.research.google.com/notebooks/data_table.ipynb>data table notebook</a>'\n",
              "            + ' to learn more about interactive tables.';\n",
              "          element.innerHTML = '';\n",
              "          dataTable['output_type'] = 'display_data';\n",
              "          await google.colab.output.renderOutput(dataTable, element);\n",
              "          const docLink = document.createElement('div');\n",
              "          docLink.innerHTML = docLinkHtml;\n",
              "          element.appendChild(docLink);\n",
              "        }\n",
              "      </script>\n",
              "    </div>\n",
              "  </div>\n",
              "  "
            ]
          },
          "metadata": {},
          "execution_count": 9
        }
      ]
    },
    {
      "cell_type": "code",
      "source": [
        "test_df.head()"
      ],
      "metadata": {
        "colab": {
          "base_uri": "https://localhost:8080/",
          "height": 206
        },
        "id": "TEu4OS-4UCB_",
        "outputId": "21313569-ac39-4672-f844-530b04f7d65e"
      },
      "execution_count": 10,
      "outputs": [
        {
          "output_type": "execute_result",
          "data": {
            "text/plain": [
              "                                     filename  age  target\n",
              "0   /content/content/combined_faces/3_564.jpg    3       1\n",
              "1  /content/content/combined_faces/41_114.jpg   41       7\n",
              "2  /content/content/combined_faces/39_272.jpg   39       7\n",
              "3   /content/content/combined_faces/33_90.jpg   33       6\n",
              "4   /content/content/combined_faces/4_269.jpg    4       1"
            ],
            "text/html": [
              "\n",
              "  <div id=\"df-1bfffd93-4d27-4b96-9641-c7d9091b3453\">\n",
              "    <div class=\"colab-df-container\">\n",
              "      <div>\n",
              "<style scoped>\n",
              "    .dataframe tbody tr th:only-of-type {\n",
              "        vertical-align: middle;\n",
              "    }\n",
              "\n",
              "    .dataframe tbody tr th {\n",
              "        vertical-align: top;\n",
              "    }\n",
              "\n",
              "    .dataframe thead th {\n",
              "        text-align: right;\n",
              "    }\n",
              "</style>\n",
              "<table border=\"1\" class=\"dataframe\">\n",
              "  <thead>\n",
              "    <tr style=\"text-align: right;\">\n",
              "      <th></th>\n",
              "      <th>filename</th>\n",
              "      <th>age</th>\n",
              "      <th>target</th>\n",
              "    </tr>\n",
              "  </thead>\n",
              "  <tbody>\n",
              "    <tr>\n",
              "      <th>0</th>\n",
              "      <td>/content/content/combined_faces/3_564.jpg</td>\n",
              "      <td>3</td>\n",
              "      <td>1</td>\n",
              "    </tr>\n",
              "    <tr>\n",
              "      <th>1</th>\n",
              "      <td>/content/content/combined_faces/41_114.jpg</td>\n",
              "      <td>41</td>\n",
              "      <td>7</td>\n",
              "    </tr>\n",
              "    <tr>\n",
              "      <th>2</th>\n",
              "      <td>/content/content/combined_faces/39_272.jpg</td>\n",
              "      <td>39</td>\n",
              "      <td>7</td>\n",
              "    </tr>\n",
              "    <tr>\n",
              "      <th>3</th>\n",
              "      <td>/content/content/combined_faces/33_90.jpg</td>\n",
              "      <td>33</td>\n",
              "      <td>6</td>\n",
              "    </tr>\n",
              "    <tr>\n",
              "      <th>4</th>\n",
              "      <td>/content/content/combined_faces/4_269.jpg</td>\n",
              "      <td>4</td>\n",
              "      <td>1</td>\n",
              "    </tr>\n",
              "  </tbody>\n",
              "</table>\n",
              "</div>\n",
              "      <button class=\"colab-df-convert\" onclick=\"convertToInteractive('df-1bfffd93-4d27-4b96-9641-c7d9091b3453')\"\n",
              "              title=\"Convert this dataframe to an interactive table.\"\n",
              "              style=\"display:none;\">\n",
              "        \n",
              "  <svg xmlns=\"http://www.w3.org/2000/svg\" height=\"24px\"viewBox=\"0 0 24 24\"\n",
              "       width=\"24px\">\n",
              "    <path d=\"M0 0h24v24H0V0z\" fill=\"none\"/>\n",
              "    <path d=\"M18.56 5.44l.94 2.06.94-2.06 2.06-.94-2.06-.94-.94-2.06-.94 2.06-2.06.94zm-11 1L8.5 8.5l.94-2.06 2.06-.94-2.06-.94L8.5 2.5l-.94 2.06-2.06.94zm10 10l.94 2.06.94-2.06 2.06-.94-2.06-.94-.94-2.06-.94 2.06-2.06.94z\"/><path d=\"M17.41 7.96l-1.37-1.37c-.4-.4-.92-.59-1.43-.59-.52 0-1.04.2-1.43.59L10.3 9.45l-7.72 7.72c-.78.78-.78 2.05 0 2.83L4 21.41c.39.39.9.59 1.41.59.51 0 1.02-.2 1.41-.59l7.78-7.78 2.81-2.81c.8-.78.8-2.07 0-2.86zM5.41 20L4 18.59l7.72-7.72 1.47 1.35L5.41 20z\"/>\n",
              "  </svg>\n",
              "      </button>\n",
              "      \n",
              "  <style>\n",
              "    .colab-df-container {\n",
              "      display:flex;\n",
              "      flex-wrap:wrap;\n",
              "      gap: 12px;\n",
              "    }\n",
              "\n",
              "    .colab-df-convert {\n",
              "      background-color: #E8F0FE;\n",
              "      border: none;\n",
              "      border-radius: 50%;\n",
              "      cursor: pointer;\n",
              "      display: none;\n",
              "      fill: #1967D2;\n",
              "      height: 32px;\n",
              "      padding: 0 0 0 0;\n",
              "      width: 32px;\n",
              "    }\n",
              "\n",
              "    .colab-df-convert:hover {\n",
              "      background-color: #E2EBFA;\n",
              "      box-shadow: 0px 1px 2px rgba(60, 64, 67, 0.3), 0px 1px 3px 1px rgba(60, 64, 67, 0.15);\n",
              "      fill: #174EA6;\n",
              "    }\n",
              "\n",
              "    [theme=dark] .colab-df-convert {\n",
              "      background-color: #3B4455;\n",
              "      fill: #D2E3FC;\n",
              "    }\n",
              "\n",
              "    [theme=dark] .colab-df-convert:hover {\n",
              "      background-color: #434B5C;\n",
              "      box-shadow: 0px 1px 3px 1px rgba(0, 0, 0, 0.15);\n",
              "      filter: drop-shadow(0px 1px 2px rgba(0, 0, 0, 0.3));\n",
              "      fill: #FFFFFF;\n",
              "    }\n",
              "  </style>\n",
              "\n",
              "      <script>\n",
              "        const buttonEl =\n",
              "          document.querySelector('#df-1bfffd93-4d27-4b96-9641-c7d9091b3453 button.colab-df-convert');\n",
              "        buttonEl.style.display =\n",
              "          google.colab.kernel.accessAllowed ? 'block' : 'none';\n",
              "\n",
              "        async function convertToInteractive(key) {\n",
              "          const element = document.querySelector('#df-1bfffd93-4d27-4b96-9641-c7d9091b3453');\n",
              "          const dataTable =\n",
              "            await google.colab.kernel.invokeFunction('convertToInteractive',\n",
              "                                                     [key], {});\n",
              "          if (!dataTable) return;\n",
              "\n",
              "          const docLinkHtml = 'Like what you see? Visit the ' +\n",
              "            '<a target=\"_blank\" href=https://colab.research.google.com/notebooks/data_table.ipynb>data table notebook</a>'\n",
              "            + ' to learn more about interactive tables.';\n",
              "          element.innerHTML = '';\n",
              "          dataTable['output_type'] = 'display_data';\n",
              "          await google.colab.output.renderOutput(dataTable, element);\n",
              "          const docLink = document.createElement('div');\n",
              "          docLink.innerHTML = docLinkHtml;\n",
              "          element.appendChild(docLink);\n",
              "        }\n",
              "      </script>\n",
              "    </div>\n",
              "  </div>\n",
              "  "
            ]
          },
          "metadata": {},
          "execution_count": 10
        }
      ]
    },
    {
      "cell_type": "code",
      "source": [
        "train_df.shape"
      ],
      "metadata": {
        "colab": {
          "base_uri": "https://localhost:8080/"
        },
        "id": "iKcvGQlJUDTD",
        "outputId": "5e3a674d-abbf-41b8-95a6-97e25948beba"
      },
      "execution_count": 11,
      "outputs": [
        {
          "output_type": "execute_result",
          "data": {
            "text/plain": [
              "(23440, 3)"
            ]
          },
          "metadata": {},
          "execution_count": 11
        }
      ]
    },
    {
      "cell_type": "code",
      "source": [
        "test_df.shape"
      ],
      "metadata": {
        "colab": {
          "base_uri": "https://localhost:8080/"
        },
        "id": "GWESOFP1UFrb",
        "outputId": "746bf233-59a2-432c-ddce-b7a3f614c37d"
      },
      "execution_count": 12,
      "outputs": [
        {
          "output_type": "execute_result",
          "data": {
            "text/plain": [
              "(10046, 3)"
            ]
          },
          "metadata": {},
          "execution_count": 12
        }
      ]
    },
    {
      "cell_type": "markdown",
      "source": [
        "### TensorFlow Dataset Pipeline"
      ],
      "metadata": {
        "id": "YjDX6p1cUweN"
      }
    },
    {
      "cell_type": "markdown",
      "source": [
        "I prepared the images dataset for the nueral network with  creating **dataset pipelines using TensorFlow's built .Dataset API**. This appraoch would significantly reduced RAM consumption, as the images are now only being loaded into the memory in defined batch sizes as and when they are needed by the neural network. "
      ],
      "metadata": {
        "id": "zdxVexBZU3ti"
      }
    },
    {
      "cell_type": "code",
      "source": [
        "# Converting the filenames and target class labels into lists for both train and test datasets.\n",
        "\n",
        "train_filenames_list = list(train_df['filename'])\n",
        "train_labels_list = list(train_df['target'])\n",
        "\n",
        "test_filenames_list = list(test_df['filename'])\n",
        "test_labels_list = list(test_df['target'])"
      ],
      "metadata": {
        "id": "VdbHc7fYUHd3"
      },
      "execution_count": 13,
      "outputs": []
    },
    {
      "cell_type": "code",
      "source": [
        "len(train_filenames_list)"
      ],
      "metadata": {
        "colab": {
          "base_uri": "https://localhost:8080/"
        },
        "id": "abC6NybLXmAd",
        "outputId": "ac565017-677f-455b-83fc-cc2f71739737"
      },
      "execution_count": 14,
      "outputs": [
        {
          "output_type": "execute_result",
          "data": {
            "text/plain": [
              "23440"
            ]
          },
          "metadata": {},
          "execution_count": 14
        }
      ]
    },
    {
      "cell_type": "code",
      "source": [
        "# Creating tensorflow constants of filenames and labels for train and test datasets from the lists defined above.\n",
        "\n",
        "train_filenames_tensor = tf.constant(train_filenames_list)\n",
        "train_labels_tensor = tf.constant(train_labels_list)\n",
        "\n",
        "test_filenames_tensor = tf.constant(test_filenames_list)\n",
        "test_labels_tensor = tf.constant(test_labels_list)"
      ],
      "metadata": {
        "id": "dNvSeFHvV6CP"
      },
      "execution_count": 15,
      "outputs": []
    },
    {
      "cell_type": "code",
      "source": [
        "# Defining the number of classes and a function to read, decode the image from given tensor and one-hot encode the image label class.\n",
        "\n",
        "num_classes = 11\n",
        "\n",
        "def parse_function(filename, label):\n",
        "    \n",
        "    image_string = tf.io.read_file(filename)\n",
        "    image_decoded = tf.io.decode_jpeg(image_string, channels=1)    # channels=1 to convert to grayscale, channels=3 to convert to RGB.\n",
        "    # image_resized = tf.image.resize(image_decoded, [200, 200])\n",
        "    label = tf.one_hot(label, num_classes)\n",
        "\n",
        "    return image_decoded, label"
      ],
      "metadata": {
        "id": "_2OJprbtV79U"
      },
      "execution_count": 16,
      "outputs": []
    },
    {
      "cell_type": "code",
      "source": [
        "# Getting the dataset ready for the neural network.\n",
        "# Using the tensor vectors defined above, accessing the images in the dataset and passing them through the function defined above.\n",
        "\n",
        "train_dataset = tf.data.Dataset.from_tensor_slices((train_filenames_tensor, train_labels_tensor))\n",
        "train_dataset = train_dataset.map(parse_function)\n",
        "train_dataset = train_dataset.repeat(3)\n",
        "train_dataset = train_dataset.batch(256)    # Same as batch_size hyperparameter in model.fit() below.\n",
        "\n",
        "test_dataset = tf.data.Dataset.from_tensor_slices((test_filenames_tensor, test_labels_tensor))\n",
        "test_dataset = test_dataset.map(parse_function)\n",
        "test_dataset = test_dataset.repeat(3)\n",
        "test_dataset = test_dataset.batch(256)    # Same as batch_size hyperparameter in model.fit() below."
      ],
      "metadata": {
        "id": "CXqGi4UTWJM8"
      },
      "execution_count": 17,
      "outputs": []
    },
    {
      "cell_type": "markdown",
      "source": [
        "## Deep Learning: Classification Modeling"
      ],
      "metadata": {
        "id": "rslljhEGUNv6"
      }
    },
    {
      "cell_type": "markdown",
      "source": [
        "### Initial Modeling with CNN"
      ],
      "metadata": {
        "id": "0aR6fVnuUdvH"
      }
    },
    {
      "cell_type": "markdown",
      "source": [
        "I first built a basic **Convolutional neural Network(CNN) model** that perform with reasonable accuracy on the given data and with the given number of total parameters. All facial images wil converted to grayscale as input."
      ],
      "metadata": {
        "id": "C6CsAJAzUrWi"
      }
    },
    {
      "cell_type": "code",
      "source": [
        "# Defining the architecture of the sequential neural network.\n",
        "\n",
        "cnn1 = Sequential()\n",
        "\n",
        "cnn1.add(Conv2D(filters=8, kernel_size=3, activation='relu', input_shape=(200, 200, 1)))    # 3rd dim = 1 for grayscale images.\n",
        "cnn1.add(Conv2D(filters=16, kernel_size=3, activation='relu'))\n",
        "cnn1.add(Conv2D(filters=32, kernel_size=3, activation='relu'))\n",
        "cnn1.add(MaxPooling2D(pool_size=(2,2)))\n",
        "\n",
        "cnn1.add(Conv2D(filters=32, kernel_size=3, activation='relu'))\n",
        "cnn1.add(MaxPooling2D(pool_size=(2,2)))\n",
        "\n",
        "cnn1.add(Conv2D(filters=64, kernel_size=3, activation='relu'))\n",
        "cnn1.add(MaxPooling2D(pool_size=(2,2)))\n",
        "\n",
        "cnn1.add(GlobalAveragePooling2D())    # GlobalAveragePooling2D(), compared to Flatten(), gave better accuracy values, and significantly reduced over-fitting and the no. of parameters.\n",
        "cnn1.add(Dense(20, activation='relu'))\n",
        "cnn1.add(Dense(11, activation='softmax'))\n",
        "\n",
        "cnn1.summary()"
      ],
      "metadata": {
        "colab": {
          "base_uri": "https://localhost:8080/"
        },
        "id": "QrKSlXadWOD2",
        "outputId": "b2789a0c-ebae-48d9-eb45-b49032dd7fc7"
      },
      "execution_count": 18,
      "outputs": [
        {
          "output_type": "stream",
          "name": "stdout",
          "text": [
            "Model: \"sequential\"\n",
            "_________________________________________________________________\n",
            " Layer (type)                Output Shape              Param #   \n",
            "=================================================================\n",
            " conv2d (Conv2D)             (None, 198, 198, 8)       80        \n",
            "                                                                 \n",
            " conv2d_1 (Conv2D)           (None, 196, 196, 16)      1168      \n",
            "                                                                 \n",
            " conv2d_2 (Conv2D)           (None, 194, 194, 32)      4640      \n",
            "                                                                 \n",
            " max_pooling2d (MaxPooling2D  (None, 97, 97, 32)       0         \n",
            " )                                                               \n",
            "                                                                 \n",
            " conv2d_3 (Conv2D)           (None, 95, 95, 32)        9248      \n",
            "                                                                 \n",
            " max_pooling2d_1 (MaxPooling  (None, 47, 47, 32)       0         \n",
            " 2D)                                                             \n",
            "                                                                 \n",
            " conv2d_4 (Conv2D)           (None, 45, 45, 64)        18496     \n",
            "                                                                 \n",
            " max_pooling2d_2 (MaxPooling  (None, 22, 22, 64)       0         \n",
            " 2D)                                                             \n",
            "                                                                 \n",
            " global_average_pooling2d (G  (None, 64)               0         \n",
            " lobalAveragePooling2D)                                          \n",
            "                                                                 \n",
            " dense (Dense)               (None, 20)                1300      \n",
            "                                                                 \n",
            " dense_1 (Dense)             (None, 11)                231       \n",
            "                                                                 \n",
            "=================================================================\n",
            "Total params: 35,163\n",
            "Trainable params: 35,163\n",
            "Non-trainable params: 0\n",
            "_________________________________________________________________\n"
          ]
        }
      ]
    },
    {
      "cell_type": "code",
      "source": [
        "# Compiling the neural network defined above.\n",
        "\n",
        "cnn1.compile(loss='categorical_crossentropy', optimizer='adam', metrics=['accuracy'])"
      ],
      "metadata": {
        "id": "YFaENXZuVsts"
      },
      "execution_count": 19,
      "outputs": []
    },
    {
      "cell_type": "markdown",
      "source": [
        "I will use ***EarlyStopping*** as a callback while training the CNN model to monitor the validation loss so as **to avoid over-fitting**. *EarlyStopping* will stop the model from training for further epochs if the validation loss starts to increase continuously."
      ],
      "metadata": {
        "id": "_5z7rbYYVx-S"
      }
    },
    {
      "cell_type": "code",
      "source": [
        "# Defining the early stop to monitor the validation loss to avoid overfitting.\n",
        "\n",
        "early_stop = EarlyStopping(monitor='val_loss', min_delta=0, patience=3, verbose=1, mode='auto')"
      ],
      "metadata": {
        "id": "Zcpi7JfKVcpN"
      },
      "execution_count": 20,
      "outputs": []
    },
    {
      "cell_type": "code",
      "source": [
        "# Fitting the model.\n",
        "\n",
        "cnn1_history = cnn1.fit(train_dataset,\n",
        "                        batch_size=256,\n",
        "                        validation_data=test_dataset,\n",
        "                        epochs=30,\n",
        "                        callbacks=[early_stop]\n",
        "                       # shuffle=False    # shuffle=False to reduce randomness and increase reproducibility\n",
        "                       )"
      ],
      "metadata": {
        "colab": {
          "base_uri": "https://localhost:8080/"
        },
        "id": "gIqOnkwfV2oJ",
        "outputId": "62980fa2-8ce7-4bdb-ad86-efc92bcc06b4"
      },
      "execution_count": 22,
      "outputs": [
        {
          "output_type": "stream",
          "name": "stdout",
          "text": [
            "Epoch 1/30\n",
            "275/275 [==============================] - 320s 1s/step - loss: 2.0746 - accuracy: 0.2443 - val_loss: 2.0041 - val_accuracy: 0.2644\n",
            "Epoch 2/30\n",
            "275/275 [==============================] - 318s 1s/step - loss: 1.9030 - accuracy: 0.2955 - val_loss: 1.8876 - val_accuracy: 0.3000\n",
            "Epoch 3/30\n",
            "275/275 [==============================] - 318s 1s/step - loss: 1.8083 - accuracy: 0.3233 - val_loss: 1.8466 - val_accuracy: 0.3135\n",
            "Epoch 4/30\n",
            "275/275 [==============================] - 316s 1s/step - loss: 1.7519 - accuracy: 0.3395 - val_loss: 1.8138 - val_accuracy: 0.3210\n",
            "Epoch 5/30\n",
            "275/275 [==============================] - 316s 1s/step - loss: 1.7148 - accuracy: 0.3500 - val_loss: 1.8057 - val_accuracy: 0.3259\n",
            "Epoch 6/30\n",
            "275/275 [==============================] - 317s 1s/step - loss: 1.6882 - accuracy: 0.3619 - val_loss: 1.7248 - val_accuracy: 0.3504\n",
            "Epoch 7/30\n",
            "275/275 [==============================] - 316s 1s/step - loss: 1.6593 - accuracy: 0.3713 - val_loss: 1.7080 - val_accuracy: 0.3558\n",
            "Epoch 8/30\n",
            "275/275 [==============================] - 317s 1s/step - loss: 1.6367 - accuracy: 0.3766 - val_loss: 1.7630 - val_accuracy: 0.3440\n",
            "Epoch 9/30\n",
            "275/275 [==============================] - 317s 1s/step - loss: 1.6086 - accuracy: 0.3866 - val_loss: 1.7007 - val_accuracy: 0.3584\n",
            "Epoch 10/30\n",
            "275/275 [==============================] - 317s 1s/step - loss: 1.5871 - accuracy: 0.3924 - val_loss: 1.7222 - val_accuracy: 0.3565\n",
            "Epoch 11/30\n",
            "275/275 [==============================] - 318s 1s/step - loss: 1.5652 - accuracy: 0.4003 - val_loss: 1.6871 - val_accuracy: 0.3666\n",
            "Epoch 12/30\n",
            "275/275 [==============================] - 318s 1s/step - loss: 1.5454 - accuracy: 0.4060 - val_loss: 1.6401 - val_accuracy: 0.3774\n",
            "Epoch 13/30\n",
            "275/275 [==============================] - 317s 1s/step - loss: 1.5255 - accuracy: 0.4137 - val_loss: 1.6558 - val_accuracy: 0.3777\n",
            "Epoch 14/30\n",
            "275/275 [==============================] - 318s 1s/step - loss: 1.5144 - accuracy: 0.4157 - val_loss: 1.6570 - val_accuracy: 0.3800\n",
            "Epoch 15/30\n",
            "275/275 [==============================] - 317s 1s/step - loss: 1.4915 - accuracy: 0.4223 - val_loss: 1.6305 - val_accuracy: 0.3859\n",
            "Epoch 16/30\n",
            "275/275 [==============================] - 318s 1s/step - loss: 1.4756 - accuracy: 0.4296 - val_loss: 1.6527 - val_accuracy: 0.3829\n",
            "Epoch 17/30\n",
            "275/275 [==============================] - 318s 1s/step - loss: 1.4574 - accuracy: 0.4355 - val_loss: 1.5641 - val_accuracy: 0.4035\n",
            "Epoch 18/30\n",
            "275/275 [==============================] - 318s 1s/step - loss: 1.4366 - accuracy: 0.4415 - val_loss: 1.5741 - val_accuracy: 0.3998\n",
            "Epoch 19/30\n",
            "275/275 [==============================] - 318s 1s/step - loss: 1.4244 - accuracy: 0.4457 - val_loss: 1.5907 - val_accuracy: 0.3946\n",
            "Epoch 20/30\n",
            "275/275 [==============================] - 318s 1s/step - loss: 1.4121 - accuracy: 0.4501 - val_loss: 1.5817 - val_accuracy: 0.4000\n",
            "Epoch 20: early stopping\n"
          ]
        }
      ]
    },
    {
      "cell_type": "code",
      "source": [
        ""
      ],
      "metadata": {
        "id": "_PlyDKNcWP2o"
      },
      "execution_count": null,
      "outputs": []
    }
  ]
}